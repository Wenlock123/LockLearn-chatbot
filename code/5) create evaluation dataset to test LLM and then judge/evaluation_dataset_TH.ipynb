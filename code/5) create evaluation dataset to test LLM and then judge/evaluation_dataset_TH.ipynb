{
  "nbformat": 4,
  "nbformat_minor": 0,
  "metadata": {
    "colab": {
      "provenance": []
    },
    "kernelspec": {
      "name": "python3",
      "display_name": "Python 3"
    },
    "language_info": {
      "name": "python"
    }
  },
  "cells": [
    {
      "cell_type": "markdown",
      "source": [
        "เชื่อม google drive"
      ],
      "metadata": {
        "id": "l_g0wD3VM_iW"
      }
    },
    {
      "cell_type": "code",
      "source": [
        "from google.colab import drive\n",
        "drive.mount('/content/drive')\n"
      ],
      "metadata": {
        "colab": {
          "base_uri": "https://localhost:8080/"
        },
        "id": "Z8_kfS8bM-a6",
        "outputId": "3d62b8a4-d50d-40af-8fb7-671f021dec4e"
      },
      "execution_count": 1,
      "outputs": [
        {
          "output_type": "stream",
          "name": "stdout",
          "text": [
            "Mounted at /content/drive\n"
          ]
        }
      ]
    },
    {
      "cell_type": "markdown",
      "source": [
        "ทำการสร้าง evaluation dataest ภาษาไทยโดยการใช้ LLM เเปลภาษา"
      ],
      "metadata": {
        "id": "4qU67WkRNCgV"
      }
    },
    {
      "cell_type": "code",
      "execution_count": null,
      "metadata": {
        "id": "LtN_65DEM0DR"
      },
      "outputs": [],
      "source": [
        "import requests\n",
        "import time\n",
        "import json\n",
        "import os\n",
        "\n",
        "# 🔑 API Key สำหรับ Together\n",
        "api_key = \"xxxxxxxxxxx\"  # 👈 ใส่ Together API Key ของคุณตรงนี้\n",
        "\n",
        "# 🚀 โหลดไฟล์คำถามพร้อม RAG Recommendations\n",
        "input_file = '/content/drive/MyDrive/LockLearn/evaluation_datasetv2.json'  # ไฟล์ input\n",
        "output_file = '/content/drive/MyDrive/LockLearn/evaluation_dataset_TH.json'  # ไฟล์ output\n",
        "\n",
        "# 📂 โหลดข้อมูลจากไฟล์\n",
        "with open(input_file, 'r', encoding='utf-8') as f:\n",
        "    data = json.load(f)\n",
        "\n",
        "print(f\"✅ รวมคำถามที่เลือกทั้งหมด: {len(data)}\")\n",
        "\n",
        "# 🚀 โหลดผลลัพธ์ล่าสุด (ถ้ามี)\n",
        "if os.path.exists(output_file):\n",
        "    with open(output_file, 'r', encoding='utf-8') as f:\n",
        "        processed_answers = json.load(f)\n",
        "        processed_ids = set([item['translated_question'] for item in processed_answers])\n",
        "else:\n",
        "    processed_answers = []\n",
        "    processed_ids = set()\n",
        "\n",
        "# 🔁 ฟังก์ชันเรียก API\n",
        "def request_with_retry(prompt, retries=3, delay=5):\n",
        "    headers = {\"Content-Type\": \"application/json\",\"Authorization\": f\"Bearer {api_key}\"}\n",
        "    json_data = {\n",
        "        \"model\": \"meta-llama/llama-4-scout-17b-16e-instruct\",\n",
        "        \"messages\": [{\"role\": \"user\", \"content\": prompt}]\n",
        "    }\n",
        "\n",
        "    for attempt in range(retries):\n",
        "        try:\n",
        "            response = requests.post(\"https://api.together.xyz/v1/chat/completions\", headers=headers, json=json_data, timeout=30)\n",
        "            if response.status_code == 200:\n",
        "                return response.json()[\"choices\"][0][\"message\"][\"content\"]\n",
        "            elif response.status_code == 429:\n",
        "                print(\"❌ Rate limit reached. Waiting for 10 seconds...\")\n",
        "                time.sleep(2)  # รอ 10 วินาทีถ้าเจอ rate limit\n",
        "            else:\n",
        "                print(f\"❌ Error (Status {response.status_code}): {response.text}\")\n",
        "                time.sleep(delay)\n",
        "        except requests.exceptions.RequestException as e:\n",
        "            print(f\"❌ Connection Error: {e}\")\n",
        "            time.sleep(delay)\n",
        "    return None\n",
        "\n",
        "# 🚀 แปลคำถามและคำตอบทั้งหมด\n",
        "for index, item in enumerate(data, start=1):\n",
        "    original_question = item['question']\n",
        "    original_answer = item.get('answer', 'No answer provided')\n",
        "\n",
        "    if original_question in processed_ids:\n",
        "        continue\n",
        "\n",
        "    # สร้าง prompt สำหรับแปลคำถามและคำตอบ\n",
        "    question_prompt = f\"Translate this question into Thai:\\n\\n{original_question}\"\n",
        "    answer_prompt = f\"Translate this answer into Thai:\\n\\n{original_answer}\"\n",
        "\n",
        "    translated_question = request_with_retry(question_prompt)\n",
        "    translated_answer = request_with_retry(answer_prompt)\n",
        "\n",
        "    if translated_question and translated_answer:\n",
        "        processed_answers.append({\n",
        "            \"translated_question\": translated_question.strip(),\n",
        "            \"translated_answer\": translated_answer.strip()\n",
        "        })\n",
        "        processed_ids.add(original_question)\n",
        "\n",
        "        # 💾 บันทึกผลลัพธ์ทันที\n",
        "        with open(output_file, 'w', encoding='utf-8') as f:\n",
        "            json.dump(processed_answers, f, ensure_ascii=False, indent=4)\n",
        "\n",
        "        print(f\"✅ คำถามและคำตอบที่ {index} ได้รับการแปลแล้ว\")\n",
        "\n",
        "print(\"✅ เสร็จสิ้นการแปลทั้งหมด\")\n"
      ]
    },
    {
      "cell_type": "markdown",
      "source": [
        "ทำการ embed คำถาม"
      ],
      "metadata": {
        "id": "TK41PqqmNa89"
      }
    },
    {
      "cell_type": "code",
      "source": [
        "import torch\n",
        "from transformers import AutoTokenizer, AutoModel\n",
        "import json\n",
        "import os\n",
        "\n",
        "# 🔧 กำหนดเส้นทางไฟล์\n",
        "input_file = '/content/drive/MyDrive/LockLearn/evaluation_dataset_TH.json'\n",
        "output_file = '/content/drive/MyDrive/LockLearn/evaluation_dataset_TH_embedded.json'\n",
        "\n",
        "# 🚀 โหลดโมเดล Hugging Face\n",
        "model_name = 'intfloat/multilingual-e5-large-instruct'\n",
        "tokenizer = AutoTokenizer.from_pretrained(model_name)\n",
        "model = AutoModel.from_pretrained(model_name)\n",
        "\n",
        "# 🚀 โหลดข้อมูลจากไฟล์\n",
        "with open(input_file, 'r', encoding='utf-8') as f:\n",
        "    data = json.load(f)\n",
        "\n",
        "# 🔥 ฟังก์ชันสร้าง Embedding\n",
        "def create_embedding(text):\n",
        "    inputs = tokenizer(text, return_tensors=\"pt\", truncation=True, padding=True)\n",
        "    with torch.no_grad():\n",
        "        embeddings = model(**inputs).last_hidden_state.mean(dim=1)\n",
        "    return embeddings[0].cpu().numpy().tolist()\n",
        "\n",
        "# ✅ เริ่มสร้าง Embedding\n",
        "print(f\"✅ รวมคำถามทั้งหมด: {len(data)}\")\n",
        "\n",
        "for index, item in enumerate(data, start=1):\n",
        "    text = item.get(\"translated_question\", \"\")\n",
        "    if text:\n",
        "        item['question_embedding'] = create_embedding(text)\n",
        "        print(f\"✅ คำถามที่ {index} ได้รับการสร้าง Embedding แล้ว\")\n",
        "\n",
        "        # 💾 บันทึกผลลัพธ์ทันทีหลังสร้าง Embedding ของแต่ละคำถาม\n",
        "        with open(output_file, 'w', encoding='utf-8') as f:\n",
        "            json.dump(data, f, ensure_ascii=False, indent=4)\n",
        "\n",
        "print(\"✅ เสร็จสิ้นการสร้าง Embedding ทั้งหมด\")\n"
      ],
      "metadata": {
        "id": "i1Zn4GhgNafp"
      },
      "execution_count": null,
      "outputs": []
    },
    {
      "cell_type": "markdown",
      "source": [
        "เตรียมความพร้อมสู่การใช้ RAG ดึงคำตอบโดยการเช็คว่าเชื่อมกับ vector database ได้มั้ย"
      ],
      "metadata": {
        "id": "hI8s8JqiNgCb"
      }
    },
    {
      "cell_type": "code",
      "source": [
        "import json\n",
        "import chromadb\n",
        "\n",
        "# 🚀 โหลด Evaluation Dataset พร้อม Embeddings\n",
        "evaluation_file = '/content/drive/MyDrive/LockLearn/evaluation_dataset_TH_embedded.json'\n",
        "with open(evaluation_file, 'r', encoding='utf-8') as f:\n",
        "    evaluation_data = json.load(f)\n",
        "\n",
        "print(f\"✅ โหลด Evaluation Dataset พร้อม Embeddings จำนวนคำถาม-คำตอบ: {len(evaluation_data)}\")\n",
        "\n",
        "# 🚀 เชื่อมต่อกับ Chroma DB\n",
        "db_path = '/content/drive/MyDrive/LockLearn/chromadb_database'\n",
        "client = chromadb.PersistentClient(path=db_path)\n",
        "collection = client.get_collection(name=\"recommendations\")\n",
        "\n",
        "# 🚀 ฟังก์ชัน RAG ดึงคำแนะนำที่ใกล้เคียง\n",
        "def retrieve_recommendations(question_embedding, top_k=3):\n",
        "    results = collection.query(\n",
        "        query_embeddings=[question_embedding],\n",
        "        n_results=top_k\n",
        "    )\n",
        "    if results['documents']:\n",
        "        return results['documents'][0]\n",
        "    return []\n",
        "\n",
        "print(\"✅ พร้อมสำหรับการค้นหาคำแนะนำด้วย RAG\")\n",
        "\n",
        "# 🚀 ทดลองดึงคำแนะนำที่ใกล้เคียงสำหรับคำถามแรก\n",
        "test_question = evaluation_data[0]['translated_question']\n",
        "test_embedding = evaluation_data[0]['question_embedding']\n",
        "\n",
        "recommendations = retrieve_recommendations(test_embedding)\n",
        "print(f\"\\n🔎 คำถาม: {test_question}\\n✅ คำแนะนำที่ใกล้เคียง:\\n\")\n",
        "\n",
        "for idx, rec in enumerate(recommendations, 1):\n",
        "    print(f\"{idx}. {rec}\")\n"
      ],
      "metadata": {
        "id": "3Boj9hWwNfbi"
      },
      "execution_count": null,
      "outputs": []
    },
    {
      "cell_type": "markdown",
      "source": [
        "ทำการใช้ RAG ดึงคำตอบที่ไกล้เคียงคำกับถามจากใน vector database"
      ],
      "metadata": {
        "id": "wnpz7w6NNub9"
      }
    },
    {
      "cell_type": "code",
      "source": [
        "import json\n",
        "import chromadb\n",
        "\n",
        "# 🚀 โหลด Evaluation Dataset พร้อม Embeddings\n",
        "evaluation_file = '/content/drive/MyDrive/LockLearn/evaluation_dataset_TH_embedded.json'\n",
        "with open(evaluation_file, 'r', encoding='utf-8') as f:\n",
        "    evaluation_data = json.load(f)\n",
        "\n",
        "print(f\"✅ โหลด Evaluation Dataset พร้อม Embeddings จำนวนคำถาม-คำตอบ: {len(evaluation_data)}\")\n",
        "\n",
        "# 🚀 เชื่อมต่อกับ Chroma DB\n",
        "db_path = '/content/drive/MyDrive/LockLearn/chromadb_database'\n",
        "client = chromadb.PersistentClient(path=db_path)\n",
        "collection = client.get_collection(name=\"recommendations\")\n",
        "\n",
        "# 🚀 ฟังก์ชัน RAG (Retrieve) เพื่อค้นหาคำแนะนำที่ใกล้เคียง\n",
        "def retrieve_recommendations(query_embedding, top_k=3):\n",
        "    results = collection.query(query_embeddings=[query_embedding], n_results=top_k)\n",
        "    return results['documents'][0] if results['documents'] else []\n",
        "\n",
        "# 🚀 ใช้ RAG ค้นหาคำแนะนำสำหรับทุกคำถามใน Dataset\n",
        "rag_results = []\n",
        "\n",
        "print(\"🔄 กำลังดึงคำแนะนำที่ใกล้เคียงด้วย RAG...\")\n",
        "\n",
        "for idx, item in enumerate(evaluation_data, 1):\n",
        "    query_embedding = item.get('question_embedding')\n",
        "    if not query_embedding:\n",
        "        print(f\"❌ ไม่มี Embedding สำหรับคำถามที่ {idx} - ข้ามไป\")\n",
        "        continue\n",
        "\n",
        "    recommendations = retrieve_recommendations(query_embedding, top_k=3)\n",
        "\n",
        "    rag_results.append({\n",
        "        \"translated_question\": item.get('translated_question', ''),\n",
        "        \"translated_answer\": item.get('translated_answer', ''),\n",
        "        \"category\": item.get('category', ''),\n",
        "        \"recommendations\": recommendations\n",
        "    })\n",
        "\n",
        "    if idx % 100 == 0 or idx == len(evaluation_data):\n",
        "        print(f\"✅ ประมวลผลแล้ว {idx}/{len(evaluation_data)} คำถาม\")\n",
        "\n",
        "# 🚀 บันทึกผลลัพธ์ RAG\n",
        "rag_results_file = '/content/drive/MyDrive/LockLearn/evaluation_rag_results_TH.json'\n",
        "with open(rag_results_file, 'w', encoding='utf-8') as f:\n",
        "    json.dump(rag_results, f, ensure_ascii=False, indent=4)\n",
        "\n",
        "print(f'✅ บันทึกผลลัพธ์ RAG ที่: {rag_results_file}')\n"
      ],
      "metadata": {
        "id": "aDTtRkCjNt71"
      },
      "execution_count": null,
      "outputs": []
    },
    {
      "cell_type": "markdown",
      "source": [
        "ให้ LLM gen คำตอบที่เหมาะสมจากคำถาม"
      ],
      "metadata": {
        "id": "rZnxqjd3ODSq"
      }
    },
    {
      "cell_type": "code",
      "source": [
        "import requests\n",
        "import time\n",
        "import json\n",
        "import os\n",
        "\n",
        "# 🔑 API Key สำหรับ Together\n",
        "api_key = \"xxxxxx\"  # 👈 ใส่ Together API Key ของคุณตรงนี้\n",
        "\n",
        "# 🚀 โหลดไฟล์คำถามพร้อม RAG Recommendations\n",
        "input_file = '/content/drive/MyDrive/LockLearn/evaluation_rag_results_TH.json'\n",
        "output_file = '/content/drive/MyDrive/LockLearn/optimized_answers_Llama4_scout_TH.json'\n",
        "\n",
        "# 📂 โหลดข้อมูลจากไฟล์\n",
        "with open(input_file, 'r', encoding='utf-8') as f:\n",
        "    data = json.load(f)\n",
        "\n",
        "# 🚀 โหลดผลลัพธ์ล่าสุด (ถ้ามี)\n",
        "if os.path.exists(output_file):\n",
        "    with open(output_file, 'r', encoding='utf-8') as f:\n",
        "        processed_answers = json.load(f)\n",
        "        processed_ids = set([item['translated_question'] for item in processed_answers])\n",
        "else:\n",
        "    processed_answers = []\n",
        "    processed_ids = set()\n",
        "\n",
        "# 🔁 ฟังก์ชันเรียก API\n",
        "def request_with_retry(json_data, retries=3, delay=5):\n",
        "    headers = {\n",
        "        \"Content-Type\": \"application/json\",\n",
        "        \"Authorization\": f\"Bearer {api_key}\"\n",
        "    }\n",
        "\n",
        "    for attempt in range(retries):\n",
        "        try:\n",
        "            response = requests.post(\"https://api.together.xyz/v1/chat/completions\", headers=headers, json=json_data, timeout=30)\n",
        "            if response.status_code == 200:\n",
        "                answer = response.json()[\"choices\"][0][\"message\"][\"content\"].strip()\n",
        "                if len(answer) > 20:  # ตรวจสอบความยาวคำตอบ\n",
        "                    return answer\n",
        "            print(f\"❌ Error (Status {response.status_code}): {response.text}\")\n",
        "            time.sleep(delay)\n",
        "        except requests.exceptions.RequestException as e:\n",
        "            print(f\"❌ Connection Error: {e}\")\n",
        "            time.sleep(delay)\n",
        "    return \"\"\n",
        "\n",
        "# 🚀 ประมวลผลคำถามที่ยังไม่ได้ตอบ\n",
        "for item in data:\n",
        "    if item['translated_question'] in processed_ids:\n",
        "        continue\n",
        "\n",
        "    # สร้าง Prompt ที่ใช้คำถามและคำแนะนำภาษาไทย\n",
        "    prompt = (\n",
        "        f\"คำถาม: {item['translated_question']}\\n\"\n",
        "        f\"คำแนะนำที่ได้รับ:\\n\"\n",
        "    )\n",
        "\n",
        "    for idx, rec in enumerate(item['recommendations'], 1):\n",
        "        prompt += f\"{idx}. {rec}\\n\"\n",
        "\n",
        "    prompt += \"โปรดเขียนคำตอบที่กระชับด้วยความให้กำลังใจ.\"\n",
        "\n",
        "    json_data = {\n",
        "        \"model\": \"meta-llama/llama-4-scout-17b-16e-instruct\",\n",
        "        \"messages\": [{\"role\": \"user\", \"content\": prompt}]\n",
        "    }\n",
        "\n",
        "    answer = request_with_retry(json_data)\n",
        "\n",
        "    if answer:\n",
        "        processed_answers.append({\n",
        "            \"translated_question\": item['translated_question'],\n",
        "            \"translated_answer\": answer,\n",
        "            \"category\": item['category']\n",
        "        })\n",
        "        processed_ids.add(item['translated_question'])\n",
        "\n",
        "        # 💾 บันทึกผลลัพธ์ทันที\n",
        "        with open(output_file, 'w', encoding='utf-8') as f:\n",
        "            json.dump(processed_answers, f, ensure_ascii=False, indent=4)\n",
        "\n",
        "        print(f\"✅ บันทึกคำตอบล่าสุด ({len(processed_answers)})\")\n",
        "\n",
        "print(\"✅ เสร็จสิ้นการประมวลผล\")\n"
      ],
      "metadata": {
        "id": "uWLd1p94N4eX"
      },
      "execution_count": null,
      "outputs": []
    },
    {
      "cell_type": "markdown",
      "source": [
        "เตรียมข้อมูล"
      ],
      "metadata": {
        "id": "Hdk1f8TmOMGl"
      }
    },
    {
      "cell_type": "code",
      "source": [
        "import json\n",
        "\n",
        "# 🔧 เส้นทางไฟล์ (ภาษาไทย)\n",
        "dataset_file = '/content/drive/MyDrive/LockLearn/evaluation_dataset_TH.json'\n",
        "rag_results_file = '/content/drive/MyDrive/LockLearn/evaluation_rag_results_TH.json'\n",
        "llm_answers_file = '/content/drive/MyDrive/LockLearn/optimized_answers_Llama4_scout_TH.json'\n",
        "\n",
        "# 🚀 โหลดข้อมูล\n",
        "with open(dataset_file, 'r', encoding='utf-8') as f:\n",
        "    dataset = json.load(f)\n",
        "\n",
        "with open(rag_results_file, 'r', encoding='utf-8') as f:\n",
        "    rag_results = json.load(f)\n",
        "\n",
        "with open(llm_answers_file, 'r', encoding='utf-8') as f:\n",
        "    llm_answers = json.load(f)\n",
        "\n",
        "# ✅ คัดคำถามให้ตรงกัน (ภาษาไทย)\n",
        "rag_questions = set(item['translated_question'] for item in rag_results)\n",
        "filtered_dataset = [item for item in dataset if item['translated_question'] in rag_questions]\n",
        "filtered_llm_answers = [item for item in llm_answers if item['translated_question'] in rag_questions]\n",
        "\n",
        "print(f\"✅ คำถามที่ตรงกันทั้งหมด: {len(filtered_dataset)}\")\n"
      ],
      "metadata": {
        "id": "zY99NxG0OQRd"
      },
      "execution_count": null,
      "outputs": []
    },
    {
      "cell_type": "markdown",
      "source": [
        "ใช้ LLM ในการ Judge โดยให้คะเเนน 0-5"
      ],
      "metadata": {
        "id": "QQJPhzTfOZUS"
      }
    },
    {
      "cell_type": "code",
      "source": [
        "import requests\n",
        "import time\n",
        "import json\n",
        "\n",
        "# 🔑 API Key สำหรับ Together\n",
        "api_key = \"xxxxxx\"  # 👈 ใส่ Together API Key ของคุณตรงนี้\n",
        "\n",
        "# 🔧 ฟังก์ชันเรียก API LLM Judge พร้อม Retry\n",
        "def request_judgement_with_retry(prompt, retries=3, delay=5):\n",
        "    headers = {\n",
        "        \"Content-Type\": \"application/json\",\n",
        "        \"Authorization\": f\"Bearer {api_key}\"\n",
        "    }\n",
        "\n",
        "    json_data = {\n",
        "        \"model\": \"meta-llama/llama-4-scout-17b-16e-instruct\",\n",
        "        \"messages\": [{\"role\": \"user\", \"content\": prompt}]\n",
        "    }\n",
        "\n",
        "    for attempt in range(retries):\n",
        "        try:\n",
        "            response = requests.post(\"https://api.together.xyz/v1/chat/completions\", headers=headers, json=json_data, timeout=30)\n",
        "            if response.status_code == 200:\n",
        "                answer = response.json()[\"choices\"][0][\"message\"][\"content\"].strip()\n",
        "                return answer\n",
        "            print(f\"❌ Error (Status {response.status_code}): {response.text}\")\n",
        "            time.sleep(delay)\n",
        "        except requests.exceptions.RequestException as e:\n",
        "            print(f\"❌ Connection Error: {e}\")\n",
        "            time.sleep(delay)\n",
        "    return \"\"\n",
        "\n",
        "# 🔧 เส้นทางไฟล์ (ภาษาไทย)\n",
        "dataset_file = '/content/drive/MyDrive/LockLearn/evaluation_dataset_TH.json'\n",
        "rag_results_file = '/content/drive/MyDrive/LockLearn/evaluation_rag_results_TH.json'\n",
        "llm_answers_file = '/content/drive/MyDrive/LockLearn/optimized_answers_Llama4_scout_TH.json'\n",
        "\n",
        "# 🚀 โหลดข้อมูล\n",
        "with open(dataset_file, 'r', encoding='utf-8') as f:\n",
        "    dataset = json.load(f)\n",
        "\n",
        "with open(rag_results_file, 'r', encoding='utf-8') as f:\n",
        "    rag_results = json.load(f)\n",
        "\n",
        "with open(llm_answers_file, 'r', encoding='utf-8') as f:\n",
        "    llm_answers = json.load(f)\n",
        "\n",
        "# ✅ คัดคำถามให้ตรงกัน\n",
        "rag_questions = set(item['translated_question'] for item in rag_results)\n",
        "filtered_dataset = [item for item in dataset if item['translated_question'] in rag_questions]\n",
        "filtered_llm_answers = [item for item in llm_answers if item['translated_question'] in rag_questions]\n",
        "\n",
        "print(f\"✅ คำถามที่ตรงกันทั้งหมด: {len(filtered_dataset)}\")\n",
        "\n",
        "# 🚀 ประเมินคำถามแต่ละข้อ\n",
        "judgement_results = []\n",
        "\n",
        "for idx, rag_item in enumerate(rag_results, 1):\n",
        "    question = rag_item['translated_question']\n",
        "    recommendations = rag_item['recommendations']\n",
        "    llm_answer = next((ans['translated_answer'] for ans in filtered_llm_answers if ans['translated_question'] == question), \"\")\n",
        "    ground_truth = next((item['translated_answer'] for item in filtered_dataset if item['translated_question'] == question), \"\")\n",
        "\n",
        "    # สร้าง Prompt ให้ LLM Judge\n",
        "    prompt = (\n",
        "        f\"Question: {question}\\n\"\n",
        "        f\"Ground Truth Answer: {ground_truth}\\n\"\n",
        "        f\"RAG Recommendations: {', '.join(recommendations)}\\n\"\n",
        "        f\"LLM Answer: {llm_answer}\\n\"\n",
        "        \"Score the quality of the RAG recommendations (0-5) and the LLM answer (0-5), provide reasoning.\"\n",
        "    )\n",
        "\n",
        "    judgement = request_judgement_with_retry(prompt)\n",
        "    print(f\"✅ คำถามที่ {idx} ได้รับการประเมินแล้ว\")\n",
        "\n",
        "    judgement_results.append({\n",
        "        \"question\": question,\n",
        "        \"ground_truth\": ground_truth,\n",
        "        \"recommendations\": recommendations,\n",
        "        \"llm_answer\": llm_answer,\n",
        "        \"judgement\": judgement\n",
        "    })\n",
        "\n",
        "    # 💾 บันทึกผลลัพธ์ทันที\n",
        "    output_file = '/content/drive/MyDrive/LockLearn/evaluation_judgement_results_TH.json'\n",
        "    with open(output_file, 'w', encoding='utf-8') as f:\n",
        "        json.dump(judgement_results, f, ensure_ascii=False, indent=4)\n",
        "\n",
        "print(f\"✅ ประเมินเสร็จสิ้น บันทึกผลลัพธ์ที่: {output_file}\")\n"
      ],
      "metadata": {
        "id": "tCJfZi_wPfFk"
      },
      "execution_count": null,
      "outputs": []
    },
    {
      "cell_type": "markdown",
      "source": [
        "เอาคะเเนนที่ได้มารวมกันเเล้วเปรียบเทียบ"
      ],
      "metadata": {
        "id": "UAgG8dHEOtCg"
      }
    },
    {
      "cell_type": "code",
      "source": [
        "import json\n",
        "import re\n",
        "import matplotlib.pyplot as plt\n",
        "\n",
        "# 📂 โหลดไฟล์ผลลัพธ์การประเมิน\n",
        "judgement_results_file = '/content/drive/MyDrive/LockLearn/evaluation_judgement_results_TH.json'\n",
        "\n",
        "with open(judgement_results_file, 'r', encoding='utf-8') as f:\n",
        "    judgement_results = json.load(f)\n",
        "\n",
        "# ✅ ฟังก์ชันเพื่อแยกคะแนนจาก judgement\n",
        "def extract_scores(judgement_text):\n",
        "    rag_score = llm_score = None\n",
        "\n",
        "    # ใช้ Regular Expression เพื่อดึงคะแนน\n",
        "    rag_match = re.search(r\"RAG Recommendations Score: (\\d)\", judgement_text)\n",
        "    llm_match = re.search(r\"LLM Answer Score: (\\d)\", judgement_text)\n",
        "\n",
        "    if rag_match:\n",
        "        rag_score = int(rag_match.group(1))\n",
        "    if llm_match:\n",
        "        llm_score = int(llm_match.group(1))\n",
        "\n",
        "    return rag_score, llm_score\n",
        "\n",
        "# ✅ สร้างข้อมูลใหม่พร้อมคะแนน\n",
        "processed_results = []\n",
        "for item in judgement_results:\n",
        "    rag_score, llm_score = extract_scores(item.get('judgement', ''))\n",
        "\n",
        "    if rag_score is not None and llm_score is not None:\n",
        "        processed_results.append({\n",
        "            \"rag_score\": rag_score,\n",
        "            \"llm_score\": llm_score\n",
        "        })\n",
        "\n",
        "# ✅ คำนวณคะแนนเฉลี่ย\n",
        "total_rag_score = sum(item['rag_score'] for item in processed_results)\n",
        "total_llm_score = sum(item['llm_score'] for item in processed_results)\n",
        "num_questions = len(processed_results)\n",
        "\n",
        "avg_rag_score = (total_rag_score / (num_questions * 5)) * 100  # เปลี่ยนเป็นเปอร์เซ็นต์\n",
        "avg_llm_score = (total_llm_score / (num_questions * 5)) * 100  # เปลี่ยนเป็นเปอร์เซ็นต์\n",
        "\n",
        "# ✅ แสดงผลคะแนน\n",
        "print(f\"✅ จำนวนคำถามที่ประเมิน: {num_questions}\")\n",
        "print(f\"✅ คะแนนเฉลี่ยของ RAG: {avg_rag_score:.2f}%\")\n",
        "print(f\"✅ คะแนนเฉลี่ยของ LLM: {avg_llm_score:.2f}%\")\n",
        "\n",
        "# ✅ สร้างกราฟ Average Score\n",
        "labels = ['RAG Recommendations', 'LLM Answers']\n",
        "scores = [avg_rag_score, avg_llm_score]\n",
        "colors = ['#1f77b4', '#ff7f0e']\n",
        "\n",
        "plt.figure(figsize=(10, 6))\n",
        "plt.bar(labels, scores, color=colors)\n",
        "plt.title('Average Score Comparison: RAG vs LLM')\n",
        "plt.ylabel('Average Score (%)')\n",
        "plt.ylim(0, 100)\n",
        "\n",
        "# 🔧 แสดงคะแนนบนกราฟ\n",
        "for i, score in enumerate(scores):\n",
        "    plt.text(i, score + 2, f\"{score:.2f}%\", ha='center', fontsize=12)\n",
        "\n",
        "plt.show()\n"
      ],
      "metadata": {
        "colab": {
          "base_uri": "https://localhost:8080/",
          "height": 597
        },
        "id": "ceR6aTiuOsbD",
        "outputId": "a3bda20d-8c4d-47a7-9216-7730f89e58f8"
      },
      "execution_count": 3,
      "outputs": [
        {
          "output_type": "stream",
          "name": "stdout",
          "text": [
            "✅ จำนวนคำถามที่ประเมิน: 1186\n",
            "✅ คะแนนเฉลี่ยของ RAG: 75.70%\n",
            "✅ คะแนนเฉลี่ยของ LLM: 89.16%\n"
          ]
        },
        {
          "output_type": "display_data",
          "data": {
            "text/plain": [
              "<Figure size 1000x600 with 1 Axes>"
            ],
            "image/png": "[encoded data removed]"
          },
          "metadata": {}
        }
      ]
    },
    {
      "cell_type": "markdown",
      "source": [
        "เปรียบเทียบค่า accuracy โดยเอาเเค่ Score ≥ 4"
      ],
      "metadata": {
        "id": "ypnuhP5wPvOs"
      }
    },
    {
      "cell_type": "code",
      "source": [
        "import json\n",
        "import re\n",
        "import matplotlib.pyplot as plt\n",
        "\n",
        "# 📂 โหลดไฟล์ผลลัพธ์การประเมิน\n",
        "judgement_results_file = '/content/drive/MyDrive/LockLearn/evaluation_judgement_results_TH.json'\n",
        "\n",
        "with open(judgement_results_file, 'r', encoding='utf-8') as f:\n",
        "    judgement_results = json.load(f)\n",
        "\n",
        "# ✅ ฟังก์ชันเพื่อแยกคะแนนจาก judgement\n",
        "def extract_scores(judgement_text):\n",
        "    rag_score = llm_score = None\n",
        "\n",
        "    # ใช้ Regular Expression เพื่อดึงคะแนน\n",
        "    rag_match = re.search(r\"RAG Recommendations Score: (\\d)\", judgement_text)\n",
        "    llm_match = re.search(r\"LLM Answer Score: (\\d)\", judgement_text)\n",
        "\n",
        "    if rag_match:\n",
        "        rag_score = int(rag_match.group(1))\n",
        "    if llm_match:\n",
        "        llm_score = int(llm_match.group(1))\n",
        "\n",
        "    return rag_score, llm_score\n",
        "\n",
        "# ✅ สร้างข้อมูลใหม่พร้อมคะแนน\n",
        "processed_results = []\n",
        "for item in judgement_results:\n",
        "    rag_score, llm_score = extract_scores(item.get('judgement', ''))\n",
        "\n",
        "    if rag_score is not None and llm_score is not None:\n",
        "        processed_results.append({\n",
        "            \"rag_score\": rag_score,\n",
        "            \"llm_score\": llm_score\n",
        "        })\n",
        "\n",
        "# ✅ คำนวณ Accuracy (คะแนน ≥ 4 ถือว่าถูกต้อง)\n",
        "num_questions = len(processed_results)\n",
        "correct_rag = sum(1 for item in processed_results if item['rag_score'] >= 4)\n",
        "correct_llm = sum(1 for item in processed_results if item['llm_score'] >= 4)\n",
        "\n",
        "rag_accuracy = (correct_rag / num_questions) * 100\n",
        "llm_accuracy = (correct_llm / num_questions) * 100\n",
        "\n",
        "# ✅ แสดงผล Accuracy\n",
        "print(f\"✅ จำนวนคำถามที่ประเมิน: {num_questions}\")\n",
        "print(f\"✅ RAG Accuracy: {rag_accuracy:.2f}% ({correct_rag}/{num_questions})\")\n",
        "print(f\"✅ LLM Accuracy: {llm_accuracy:.2f}% ({correct_llm}/{num_questions})\")\n",
        "\n",
        "# ✅ สร้างกราฟ Accuracy\n",
        "labels = ['RAG Recommendations', 'LLM Answers']\n",
        "accuracy_scores = [rag_accuracy, llm_accuracy]\n",
        "colors = ['#1f77b4', '#ff7f0e']\n",
        "\n",
        "plt.figure(figsize=(10, 6))\n",
        "plt.bar(labels, accuracy_scores, color=colors)\n",
        "plt.title('Accuracy Comparison TH (Score ≥ 4)')\n",
        "plt.ylabel('Accuracy (%)')\n",
        "plt.ylim(0, 100)\n",
        "\n",
        "# 🔧 แสดงค่า Accuracy บนกราฟ\n",
        "for i, acc in enumerate(accuracy_scores):\n",
        "    plt.text(i, acc + 2, f\"{acc:.2f}%\", ha='center', fontsize=12)\n",
        "\n",
        "plt.show()\n"
      ],
      "metadata": {
        "colab": {
          "base_uri": "https://localhost:8080/",
          "height": 597
        },
        "id": "RJ_BQFeoPusP",
        "outputId": "14a318a9-59f9-4635-efac-13e539352114"
      },
      "execution_count": 4,
      "outputs": [
        {
          "output_type": "stream",
          "name": "stdout",
          "text": [
            "✅ จำนวนคำถามที่ประเมิน: 1186\n",
            "✅ RAG Accuracy: 83.31% (988/1186)\n",
            "✅ LLM Accuracy: 92.58% (1098/1186)\n"
          ]
        },
        {
          "output_type": "display_data",
          "data": {
            "text/plain": [
              "<Figure size 1000x600 with 1 Axes>"
            ],
            "image/png": "[encoded data removed]"
          },
          "metadata": {}
        }
      ]
    }
  ]
}