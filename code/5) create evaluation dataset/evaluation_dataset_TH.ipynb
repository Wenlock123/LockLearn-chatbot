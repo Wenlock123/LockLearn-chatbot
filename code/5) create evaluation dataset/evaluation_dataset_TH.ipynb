{
  "nbformat": 4,
  "nbformat_minor": 0,
  "metadata": {
    "colab": {
      "provenance": []
    },
    "kernelspec": {
      "name": "python3",
      "display_name": "Python 3"
    },
    "language_info": {
      "name": "python"
    }
  },
  "cells": [
    {
      "cell_type": "markdown",
      "source": [
        "เชื่อม google drive"
      ],
      "metadata": {
        "id": "l_g0wD3VM_iW"
      }
    },
    {
      "cell_type": "code",
      "source": [
        "from google.colab import drive\n",
        "drive.mount('/content/drive')\n"
      ],
      "metadata": {
        "colab": {
          "base_uri": "https://localhost:8080/"
        },
        "id": "Z8_kfS8bM-a6",
        "outputId": "3d62b8a4-d50d-40af-8fb7-671f021dec4e"
      },
      "execution_count": null,
      "outputs": [
        {
          "output_type": "stream",
          "name": "stdout",
          "text": [
            "Mounted at /content/drive\n"
          ]
        }
      ]
    },
    {
      "cell_type": "markdown",
      "source": [
        "ทำการสร้าง evaluation dataest ภาษาไทยโดยการใช้ LLM เเปลภาษา"
      ],
      "metadata": {
        "id": "4qU67WkRNCgV"
      }
    },
    {
      "cell_type": "code",
      "execution_count": null,
      "metadata": {
        "id": "LtN_65DEM0DR"
      },
      "outputs": [],
      "source": [
        "import requests\n",
        "import time\n",
        "import json\n",
        "import os\n",
        "\n",
        "# 🔑 API Key สำหรับ Together\n",
        "api_key = \"xxxxxxxxxxx\"  # 👈 ใส่ Together API Key ของคุณตรงนี้\n",
        "\n",
        "# 🚀 โหลดไฟล์คำถามพร้อม RAG Recommendations\n",
        "input_file = '/content/drive/MyDrive/LockLearn/evaluation_datasetv2.json'  # ไฟล์ input\n",
        "output_file = '/content/drive/MyDrive/LockLearn/evaluation_dataset_TH.json'  # ไฟล์ output\n",
        "\n",
        "# 📂 โหลดข้อมูลจากไฟล์\n",
        "with open(input_file, 'r', encoding='utf-8') as f:\n",
        "    data = json.load(f)\n",
        "\n",
        "print(f\"✅ รวมคำถามที่เลือกทั้งหมด: {len(data)}\")\n",
        "\n",
        "# 🚀 โหลดผลลัพธ์ล่าสุด (ถ้ามี)\n",
        "if os.path.exists(output_file):\n",
        "    with open(output_file, 'r', encoding='utf-8') as f:\n",
        "        processed_answers = json.load(f)\n",
        "        processed_ids = set([item['translated_question'] for item in processed_answers])\n",
        "else:\n",
        "    processed_answers = []\n",
        "    processed_ids = set()\n",
        "\n",
        "# 🔁 ฟังก์ชันเรียก API\n",
        "def request_with_retry(prompt, retries=3, delay=5):\n",
        "    headers = {\"Content-Type\": \"application/json\",\"Authorization\": f\"Bearer {api_key}\"}\n",
        "    json_data = {\n",
        "        \"model\": \"meta-llama/llama-4-scout-17b-16e-instruct\",\n",
        "        \"messages\": [{\"role\": \"user\", \"content\": prompt}]\n",
        "    }\n",
        "\n",
        "    for attempt in range(retries):\n",
        "        try:\n",
        "            response = requests.post(\"https://api.together.xyz/v1/chat/completions\", headers=headers, json=json_data, timeout=30)\n",
        "            if response.status_code == 200:\n",
        "                return response.json()[\"choices\"][0][\"message\"][\"content\"]\n",
        "            elif response.status_code == 429:\n",
        "                print(\"❌ Rate limit reached. Waiting for 10 seconds...\")\n",
        "                time.sleep(2)  # รอ 10 วินาทีถ้าเจอ rate limit\n",
        "            else:\n",
        "                print(f\"❌ Error (Status {response.status_code}): {response.text}\")\n",
        "                time.sleep(delay)\n",
        "        except requests.exceptions.RequestException as e:\n",
        "            print(f\"❌ Connection Error: {e}\")\n",
        "            time.sleep(delay)\n",
        "    return None\n",
        "\n",
        "# 🚀 แปลคำถามและคำตอบทั้งหมด\n",
        "for index, item in enumerate(data, start=1):\n",
        "    original_question = item['question']\n",
        "    original_answer = item.get('answer', 'No answer provided')\n",
        "\n",
        "    if original_question in processed_ids:\n",
        "        continue\n",
        "\n",
        "    # สร้าง prompt สำหรับแปลคำถามและคำตอบ\n",
        "    question_prompt = f\"Translate this question into Thai:\\n\\n{original_question}\"\n",
        "    answer_prompt = f\"Translate this answer into Thai:\\n\\n{original_answer}\"\n",
        "\n",
        "    translated_question = request_with_retry(question_prompt)\n",
        "    translated_answer = request_with_retry(answer_prompt)\n",
        "\n",
        "    if translated_question and translated_answer:\n",
        "        processed_answers.append({\n",
        "            \"translated_question\": translated_question.strip(),\n",
        "            \"translated_answer\": translated_answer.strip()\n",
        "        })\n",
        "        processed_ids.add(original_question)\n",
        "\n",
        "        # 💾 บันทึกผลลัพธ์ทันที\n",
        "        with open(output_file, 'w', encoding='utf-8') as f:\n",
        "            json.dump(processed_answers, f, ensure_ascii=False, indent=4)\n",
        "\n",
        "        print(f\"✅ คำถามและคำตอบที่ {index} ได้รับการแปลแล้ว\")\n",
        "\n",
        "print(\"✅ เสร็จสิ้นการแปลทั้งหมด\")\n"
      ]
    }
  ]
}