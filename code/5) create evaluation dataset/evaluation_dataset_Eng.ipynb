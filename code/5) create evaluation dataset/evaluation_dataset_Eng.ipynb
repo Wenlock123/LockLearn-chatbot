{
  "nbformat": 4,
  "nbformat_minor": 0,
  "metadata": {
    "colab": {
      "provenance": []
    },
    "kernelspec": {
      "name": "python3",
      "display_name": "Python 3"
    },
    "language_info": {
      "name": "python"
    }
  },
  "cells": [
    {
      "cell_type": "markdown",
      "source": [
        "เราจะวัดค่าความถูกต้องของโมเดลโดบการให้ LLM judge คำตอบที่เราได้จาก RAG เเละ LLM อีกตัว"
      ],
      "metadata": {
        "id": "JHGMKp5EMEyb"
      }
    },
    {
      "cell_type": "markdown",
      "source": [
        "เชื่อม google drive"
      ],
      "metadata": {
        "id": "KnKqcE3QFOE6"
      }
    },
    {
      "cell_type": "code",
      "source": [
        "from google.colab import drive\n",
        "drive.mount('/content/drive')\n"
      ],
      "metadata": {
        "colab": {
          "base_uri": "https://localhost:8080/"
        },
        "id": "xpOGmpUMFMZx",
        "outputId": "2f89c469-dda4-43ec-c481-7604798012d9"
      },
      "execution_count": null,
      "outputs": [
        {
          "output_type": "stream",
          "name": "stdout",
          "text": [
            "Mounted at /content/drive\n"
          ]
        }
      ]
    },
    {
      "cell_type": "markdown",
      "source": [
        "โหลดสิ่งที่จำเป็น"
      ],
      "metadata": {
        "id": "d8Zicg_EFiFU"
      }
    },
    {
      "cell_type": "code",
      "source": [
        "!pip install -U langchain-community\n",
        "# ติดตั้ง PyTorch เวอร์ชันล่าสุด\n",
        "!pip install torch==2.0.1\n",
        "# 🚀 ลบ PyTorch และ Transformers เก่าทั้งหมด\n",
        "!pip uninstall -y torch torchvision torchaudio transformers\n",
        "\n",
        "# 🚀 ติดตั้ง PyTorch ที่รองรับ CUDA ของ Colab (CUDA 11.8)\n",
        "!pip install torch torchvision torchaudio --index-url https://download.pytorch.org/whl/cu118\n",
        "\n",
        "# 🚀 ติดตั้ง Transformers เวอร์ชันที่รองรับ\n",
        "!pip install transformers --upgrade\n"
      ],
      "metadata": {
        "id": "RohXzJ6OFkJc"
      },
      "execution_count": null,
      "outputs": []
    },
    {
      "cell_type": "markdown",
      "source": [
        "สร้าง Evaluation dataset ภาษาอังกฤษ"
      ],
      "metadata": {
        "id": "pR1ScqPPFRgY"
      }
    },
    {
      "cell_type": "code",
      "execution_count": null,
      "metadata": {
        "id": "8qbA4LSkE5DT"
      },
      "outputs": [],
      "source": [
        "import json\n",
        "import time\n",
        "import requests\n",
        "\n",
        "# 🔑 API Key สำหรับ Together\n",
        "api_key = \"xxxx\"  # 👈 ใส่ Together API Key ของคุณตรงนี้\n",
        "\n",
        "# 🚀 โหลดไฟล์คำแนะนำพร้อมหมวดหมู่\n",
        "embedding_file = '/content/drive/MyDrive/LockLearn/recommendations_with_categories.json'\n",
        "output_file = '/content/drive/MyDrive/LockLearn/evaluation_datasetv2.json'\n",
        "\n",
        "with open(embedding_file, 'r', encoding='utf-8') as f:\n",
        "    recommendations_with_categories = json.load(f)\n",
        "\n",
        "# 🚀 ฟังก์ชันเรียก API เพื่อสร้างคำถาม\n",
        "def request_with_retry(prompt, retries=3, delay=10):  # เรียกทีละคำขอ\n",
        "    headers = {\n",
        "        \"Content-Type\": \"application/json\",\n",
        "        \"Authorization\": f\"Bearer {api_key}\"\n",
        "    }\n",
        "\n",
        "    json_data = {\n",
        "        \"model\": \"meta-llama/llama-4-scout-17b-16e-instruct\",\n",
        "        \"messages\": [{\"role\": \"user\", \"content\": prompt}]\n",
        "    }\n",
        "\n",
        "    for attempt in range(retries):\n",
        "        try:\n",
        "            response = requests.post(\"https://api.together.xyz/v1/chat/completions\", headers=headers, json=json_data, timeout=30)\n",
        "            if response.status_code == 200:\n",
        "                return response.json().get(\"choices\", [])[0][\"message\"][\"content\"]\n",
        "            elif response.status_code == 429:  # ถ้าถูก rate-limited\n",
        "                print(\"❌ Rate limit reached. Sleeping for 60 seconds...\")\n",
        "                time.sleep(60)  # หน่วง 60 วินาทีถ้าโดน rate limit\n",
        "            else:\n",
        "                print(f\"❌ Error (Status {response.status_code}): {response.text}\")\n",
        "                time.sleep(delay)\n",
        "        except requests.exceptions.RequestException as e:\n",
        "            print(f\"❌ Connection Error: {e}\")\n",
        "            time.sleep(delay)\n",
        "    return None\n",
        "\n",
        "# 🚀 กรองคำแนะนำตามหมวดหมู่\n",
        "category_dict = {}\n",
        "for rec in recommendations_with_categories:\n",
        "    category = rec.get('category', 'Unknown')\n",
        "    category_dict.setdefault(category, []).append(rec)\n",
        "\n",
        "# 🚀 เลือกคำแนะนำจากแต่ละหมวดหมู่ (สูงสุด 100)\n",
        "filtered_recommendations = [rec for recs in category_dict.values() for rec in (recs if len(recs) <= 100 else random.sample(recs, 100))]\n",
        "\n",
        "# 🚀 สร้างคำถามจากคำแนะนำที่เลือกมา\n",
        "evaluation_data = []\n",
        "print(f\"✅ รวมคำแนะนำที่เลือกทั้งหมด: {len(filtered_recommendations)}\")\n",
        "\n",
        "for i, rec in enumerate(filtered_recommendations):\n",
        "    # ปรับ prompt ให้ LLM สร้างคำถามแบบกระชับเพียงคำถามเดียวต่อคำแนะนำ\n",
        "    prompt = f\"Generate a short, human-like question based on the following recommendation: {rec['text']}\"\n",
        "\n",
        "    print(f\"🚀 กำลังสร้างคำถามที่ {i + 1}\")\n",
        "    question = request_with_retry(prompt, delay=10)  # เรียกทีละคำขอ\n",
        "\n",
        "    if question:\n",
        "        entry = {\"question\": question.strip(), \"answer\": rec['text'], \"category\": rec.get('category', 'Unknown')}\n",
        "        evaluation_data.append(entry)\n",
        "\n",
        "    # หน่วง 1 วินาทีหลังจากแต่ละคำขอ\n",
        "    time.sleep(1)\n",
        "\n",
        "# 🚀 บันทึกผลลัพธ์แบบ JSON Pretty\n",
        "with open(output_file, 'w', encoding='utf-8') as f:\n",
        "    json.dump(evaluation_data, f, ensure_ascii=False, indent=4)\n",
        "\n",
        "print(f\"✅ เสร็จสิ้นการสร้างคำถามทั้งหมด: {len(evaluation_data)}\")\n",
        "\n",
        "# ✅ ตรวจสอบว่าจำนวนคำถามครบ 1,370 คำถามหรือไม่\n",
        "if len(evaluation_data) == 1370:\n",
        "    print(\"✅ คำถามครบ 1,370 คำถามแล้ว!\")\n",
        "else:\n",
        "    print(f\"❌ พบปัญหา: จำนวนคำถามที่ได้มี {len(evaluation_data)} คำถามจาก 1,370 คำถามที่คาดไว้\")\n"
      ]
    }
  ]
}