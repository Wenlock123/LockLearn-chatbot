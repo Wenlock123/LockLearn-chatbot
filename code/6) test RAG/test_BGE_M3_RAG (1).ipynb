{
  "nbformat": 4,
  "nbformat_minor": 0,
  "metadata": {
    "colab": {
      "provenance": []
    },
    "kernelspec": {
      "name": "python3",
      "display_name": "Python 3"
    },
    "language_info": {
      "name": "python"
    }
  },
  "cells": [
    {
      "cell_type": "markdown",
      "source": [
        "# หมายเหตุ\n",
        "เป็นการทดลองเพื่อเปรียบเทียบประสิทธิภาพของ Embedding model\n",
        "\n",
        "*   โดยจะใช้ โมเดล BGE - M3\n",
        "*   จะเน้นค่า Recall@ k   เท่านั้น\n",
        "\n",
        "\n",
        "\n",
        "คำเเนะนำ\n",
        "  ให้ทำการเชื่อม google drive ก่อนทุกครั้ง\n"
      ],
      "metadata": {
        "id": "fr3ShNjgPO_U"
      }
    },
    {
      "cell_type": "code",
      "execution_count": 1,
      "metadata": {
        "id": "oXpCKVWROvrj",
        "colab": {
          "base_uri": "https://localhost:8080/"
        },
        "outputId": "bfb41f7f-1924-4fe5-d065-7fc53931994c"
      },
      "outputs": [
        {
          "output_type": "stream",
          "name": "stdout",
          "text": [
            "Mounted at /content/drive\n"
          ]
        }
      ],
      "source": [
        "from google.colab import drive\n",
        "drive.mount('/content/drive')\n"
      ]
    },
    {
      "cell_type": "markdown",
      "source": [
        "โหลดสิ่งที่จำเป็น"
      ],
      "metadata": {
        "id": "9ARzdOOUQNVC"
      }
    },
    {
      "cell_type": "code",
      "source": [
        "!pip install -U langchain-community"
      ],
      "metadata": {
        "id": "9yT-NRHVP6Xn"
      },
      "execution_count": null,
      "outputs": []
    },
    {
      "cell_type": "code",
      "source": [
        "# ติดตั้ง PyTorch เวอร์ชันล่าสุด\n",
        "!pip install torch==2.0.1"
      ],
      "metadata": {
        "id": "W978UZ4FQKad"
      },
      "execution_count": null,
      "outputs": []
    },
    {
      "cell_type": "code",
      "source": [
        "# 🚀 ลบ PyTorch และ Transformers เก่าทั้งหมด\n",
        "!pip uninstall -y torch torchvision torchaudio transformers\n",
        "\n",
        "# 🚀 ติดตั้ง PyTorch ที่รองรับ CUDA ของ Colab (CUDA 11.8)\n",
        "!pip install torch torchvision torchaudio --index-url https://download.pytorch.org/whl/cu118\n",
        "\n",
        "# 🚀 ติดตั้ง Transformers เวอร์ชันที่รองรับ\n",
        "!pip install transformers --upgrade"
      ],
      "metadata": {
        "id": "ztEphhzAQMWT"
      },
      "execution_count": null,
      "outputs": []
    },
    {
      "cell_type": "code",
      "source": [
        "!pip install -q langchain transformers chromadb requests\n",
        "!pip install -q langchain chromadb requests"
      ],
      "metadata": {
        "id": "o1EhEINYQ4vm"
      },
      "execution_count": null,
      "outputs": []
    },
    {
      "cell_type": "markdown",
      "source": [
        "**English Evaluation dataset**"
      ],
      "metadata": {
        "id": "WM9fj3g1S5sq"
      }
    },
    {
      "cell_type": "markdown",
      "source": [
        "ทำการ embed คำถามของ Evaluation datasest ด้วย BGE-M3"
      ],
      "metadata": {
        "id": "BOgmBsU7QTqw"
      }
    },
    {
      "cell_type": "code",
      "source": [
        "from transformers import AutoTokenizer, AutoModel\n",
        "import torch\n",
        "import json\n",
        "import numpy as np\n",
        "\n",
        "# 🚀 โหลดโมเดล BGE-M3\n",
        "model_name = \"BAAI/bge-m3\"\n",
        "tokenizer = AutoTokenizer.from_pretrained(model_name)\n",
        "model = AutoModel.from_pretrained(model_name)\n",
        "device = torch.device(\"cuda\" if torch.cuda.is_available() else \"cpu\")\n",
        "model.to(device)\n",
        "model.eval()\n",
        "\n",
        "# 🚀 ฟังก์ชันทำ mean pooling สำหรับ embedding\n",
        "def mean_pooling(model_output, attention_mask):\n",
        "    token_embeddings = model_output[0]  # First element: last_hidden_state\n",
        "    input_mask_expanded = attention_mask.unsqueeze(-1).expand(token_embeddings.size()).float()\n",
        "    return torch.sum(token_embeddings * input_mask_expanded, 1) / torch.clamp(input_mask_expanded.sum(1), min=1e-9)\n",
        "\n",
        "# 🚀 ฟังก์ชันสร้าง Embedding ของคำถามแบบ batch\n",
        "def embed_text_batch(texts):\n",
        "    encoded_input = tokenizer(\n",
        "        texts,\n",
        "        padding=True,\n",
        "        truncation=True,\n",
        "        return_tensors=\"pt\"\n",
        "    ).to(device)\n",
        "\n",
        "    with torch.no_grad():\n",
        "        model_output = model(**encoded_input)\n",
        "\n",
        "    embeddings = mean_pooling(model_output, encoded_input['attention_mask'])\n",
        "    return embeddings.cpu().numpy()\n",
        "\n",
        "# 🚀 โหลด Evaluation Dataset\n",
        "evaluation_file = '/content/drive/MyDrive/LockLearn/evaluation_datasetv2.json'\n",
        "with open(evaluation_file, 'r', encoding='utf-8') as f:\n",
        "    evaluation_data = json.load(f)\n",
        "\n",
        "print(f\"✅ โหลด Evaluation Dataset จำนวนคำถาม-คำตอบ: {len(evaluation_data)}\")\n",
        "\n",
        "# 🚀 สร้าง Embeddings สำหรับคำถามทั้งหมด (Batch)\n",
        "batch_size = 10\n",
        "all_embeddings = []\n",
        "\n",
        "for i in range(0, len(evaluation_data), batch_size):\n",
        "    batch_questions = [item['question'] for item in evaluation_data[i:i + batch_size]]\n",
        "    batch_embeddings = embed_text_batch(batch_questions)\n",
        "    all_embeddings.extend(batch_embeddings.tolist())\n",
        "\n",
        "    print(f\"✅ batch ที่ {i // batch_size + 1} embed แล้ว\")\n",
        "\n",
        "    if device.type == \"cuda\":\n",
        "        torch.cuda.empty_cache()\n",
        "\n",
        "# 🚀 เพิ่ม Embeddings กลับเข้า Evaluation Dataset\n",
        "for i, item in enumerate(evaluation_data):\n",
        "    item['embedding'] = all_embeddings[i]\n",
        "\n",
        "print(\"✅ สร้าง Embeddings สำหรับคำถามใน Evaluation Dataset สำเร็จ\")\n",
        "\n",
        "# 🚀 กำหนดเส้นทางที่ต้องการบันทึกไฟล์\n",
        "output_file = '/content/drive/MyDrive/LockLearn/evaluation_dataset_with_embeddings_v2_BGE_M3.json'\n",
        "\n",
        "# 🚀 บันทึก Evaluation Dataset พร้อม Embeddings ลงไฟล์ JSON\n",
        "with open(output_file, 'w', encoding='utf-8') as f:\n",
        "    json.dump(evaluation_data, f, ensure_ascii=False, indent=4)\n",
        "\n",
        "print(f\"✅ บันทึก Evaluation Dataset พร้อม Embeddings ที่: {output_file}\")\n"
      ],
      "metadata": {
        "id": "yj4oLv_OQTC3"
      },
      "execution_count": null,
      "outputs": []
    },
    {
      "cell_type": "markdown",
      "source": [
        "เชื่อม vector database"
      ],
      "metadata": {
        "id": "iMQtWvfRQWO6"
      }
    },
    {
      "cell_type": "code",
      "source": [
        "# 🚀 2. เชื่อมต่อกับ Chroma Database v5 ที่จะสร้างใหม่\n",
        "import chromadb\n",
        "\n",
        "db_path = '/content/drive/MyDrive/LockLearn/chromadb_database_v5'  # ✅ เปลี่ยน path เป็น v5\n",
        "client = chromadb.PersistentClient(path=db_path)\n",
        "\n",
        "# 🚀 โหลด Collection ที่มีอยู่แล้ว (หรือจะสร้างถ้ายังไม่มี)\n",
        "collection_name = \"recommendations\"\n",
        "collection = client.get_collection(name=collection_name)\n",
        "\n",
        "print(\"✅ เชื่อมต่อกับ Chroma DB v5 และโหลดคอลเลกชัน 'recommendations' สำเร็จ\")\n"
      ],
      "metadata": {
        "id": "53ghM_8YQc6F"
      },
      "execution_count": null,
      "outputs": []
    },
    {
      "cell_type": "markdown",
      "source": [
        "เช็คว่าสามารถดึงข้อมูลได้มั้ย"
      ],
      "metadata": {
        "id": "Qk0sdyQ1QdfG"
      }
    },
    {
      "cell_type": "code",
      "source": [
        "import json\n",
        "import chromadb\n",
        "\n",
        "# 🚀 โหลด Evaluation Dataset พร้อม Embeddings จาก BGE-M3\n",
        "evaluation_file = '/content/drive/MyDrive/LockLearn/evaluation_dataset_with_embeddings_v2_BGE_M3.json'\n",
        "with open(evaluation_file, 'r', encoding='utf-8') as f:\n",
        "    evaluation_data = json.load(f)\n",
        "\n",
        "print(f\"✅ โหลด Evaluation Dataset (BGE-M3) จำนวนคำถาม-คำตอบ: {len(evaluation_data)}\")\n",
        "\n",
        "# 🚀 เชื่อมต่อกับ Chroma DB เวอร์ชัน v5\n",
        "db_path = '/content/drive/MyDrive/LockLearn/chromadb_database_v5'  # ✅ อัปเดตเป็น v5\n",
        "client = chromadb.PersistentClient(path=db_path)\n",
        "\n",
        "# 🚀 โหลด Collection \"recommendations\"\n",
        "collection = client.get_collection(name=\"recommendations\")\n",
        "print(\"✅ เชื่อมต่อกับ Chroma DB v5 และโหลดคอลเลกชัน 'recommendations' สำเร็จ\")\n",
        "\n",
        "# 🚀 ฟังก์ชัน RAG ดึงคำแนะนำที่ใกล้เคียง\n",
        "def retrieve_recommendations(question_embedding, top_k=3):\n",
        "    results = collection.query(\n",
        "        query_embeddings=[question_embedding],\n",
        "        n_results=top_k\n",
        "    )\n",
        "    if results and 'documents' in results and len(results['documents']) > 0:\n",
        "        return results['documents'][0]\n",
        "    return []\n",
        "\n",
        "# 🚀 ทดลองดึงคำแนะนำที่ใกล้เคียงสำหรับคำถามแรก\n",
        "test_question = evaluation_data[0]['question']\n",
        "test_embedding = evaluation_data[0]['embedding']\n",
        "\n",
        "recommendations = retrieve_recommendations(test_embedding)\n",
        "print(f\"\\n🔎 คำถาม: {test_question}\\n✅ คำแนะนำที่ใกล้เคียง:\\n\")\n",
        "\n",
        "for idx, rec in enumerate(recommendations, 1):\n",
        "    print(f\"{idx}. {rec}\")\n"
      ],
      "metadata": {
        "id": "YEztfa-vQhaI"
      },
      "execution_count": null,
      "outputs": []
    },
    {
      "cell_type": "markdown",
      "source": [
        "ให้ค่า K = 3"
      ],
      "metadata": {
        "id": "trpTKJIdQlx6"
      }
    },
    {
      "cell_type": "code",
      "source": [
        "import json\n",
        "import chromadb\n",
        "\n",
        "# 🚀 โหลด Evaluation Dataset พร้อม Embeddings (จาก BGE-M3)\n",
        "evaluation_file = '/content/drive/MyDrive/LockLearn/evaluation_dataset_with_embeddings_v2_BGE_M3.json'\n",
        "with open(evaluation_file, 'r', encoding='utf-8') as f:\n",
        "    evaluation_data = json.load(f)\n",
        "\n",
        "print(f\"✅ โหลด Evaluation Dataset (BGE-M3) จำนวนคำถาม-คำตอบ: {len(evaluation_data)}\")\n",
        "\n",
        "# 🚀 เชื่อมต่อกับ Chroma DB เวอร์ชัน v5\n",
        "db_path = '/content/drive/MyDrive/LockLearn/chromadb_database_v5'\n",
        "client = chromadb.PersistentClient(path=db_path)\n",
        "collection = client.get_collection(name=\"recommendations\")\n",
        "\n",
        "# 🚀 ฟังก์ชัน RAG (Retrieve) เพื่อค้นหาคำแนะนำที่ใกล้เคียง\n",
        "def retrieve_recommendations(query_embedding, top_k=3):\n",
        "    results = collection.query(query_embeddings=[query_embedding], n_results=top_k)\n",
        "    return results['documents'][0] if results['documents'] else []\n",
        "\n",
        "# 🚀 ใช้ RAG ค้นหาคำแนะนำสำหรับทุกคำถามใน Dataset\n",
        "rag_results = []\n",
        "\n",
        "print(\"🔄 กำลังดึงคำแนะนำที่ใกล้เคียงด้วย RAG...\")\n",
        "\n",
        "for idx, item in enumerate(evaluation_data, 1):\n",
        "    query_embedding = item['embedding']\n",
        "    recommendations = retrieve_recommendations(query_embedding, top_k=3)\n",
        "\n",
        "    rag_results.append({\n",
        "        \"question\": item['question'],\n",
        "        \"answer\": item['answer'],\n",
        "        \"category\": item.get('category', 'Unknown'),\n",
        "        \"recommendations\": recommendations\n",
        "    })\n",
        "\n",
        "    if idx % 100 == 0 or idx == len(evaluation_data):\n",
        "        print(f\"✅ ประมวลผลแล้ว {idx}/{len(evaluation_data)} คำถาม\")\n",
        "\n",
        "# 🚀 บันทึกผลลัพธ์ RAG\n",
        "rag_results_file = '/content/drive/MyDrive/LockLearn/evaluation_rag_results_v2_BGE_M3_K=3.json'\n",
        "with open(rag_results_file, 'w', encoding='utf-8') as f:\n",
        "    json.dump(rag_results, f, ensure_ascii=False, indent=4)\n",
        "\n",
        "print(f'✅ บันทึกผลลัพธ์ RAG ที่: {rag_results_file}')\n"
      ],
      "metadata": {
        "id": "W94zZ9pFQneD"
      },
      "execution_count": null,
      "outputs": []
    },
    {
      "cell_type": "markdown",
      "source": [
        "หาค่า Recall"
      ],
      "metadata": {
        "id": "thtf_YDZQrE3"
      }
    },
    {
      "cell_type": "code",
      "source": [
        "import json\n",
        "\n",
        "# 🚀 โหลด Evaluation Dataset (มี embeddings)\n",
        "evaluation_file = '/content/drive/MyDrive/LockLearn/evaluation_dataset_with_embeddings_v2_BGE_M3.json'\n",
        "with open(evaluation_file, 'r', encoding='utf-8') as f:\n",
        "    evaluation_data = json.load(f)\n",
        "\n",
        "# 🚀 โหลด RAG Results (จาก BGE-M3)\n",
        "rag_results_file = '/content/drive/MyDrive/LockLearn/evaluation_rag_results_v2_BGE_M3_K=3.json'\n",
        "with open(rag_results_file, 'r', encoding='utf-8') as f:\n",
        "    rag_results = json.load(f)\n",
        "\n",
        "K = 3  # จำนวนคำแนะนำที่ดึงมา\n",
        "\n",
        "# 🚀 ฟังก์ชันคำนวณ Precision@K\n",
        "def precision_at_k(relevant, retrieved, k):\n",
        "    retrieved_k = retrieved[:k]\n",
        "    hits = sum(1 for r in retrieved_k if r.lower().strip() in relevant)\n",
        "    return hits / k if k > 0 else 0\n",
        "\n",
        "# 🚀 ฟังก์ชันคำนวณ Recall@K\n",
        "def recall_at_k(relevant, retrieved, k):\n",
        "    retrieved_k = retrieved[:k]\n",
        "    hits = sum(1 for r in retrieved_k if r.lower().strip() in relevant)\n",
        "    return hits / len(relevant) if relevant else 0\n",
        "\n",
        "# 🚀 ฟังก์ชันคำนวณ Mean Reciprocal Rank (MRR)\n",
        "def mean_reciprocal_rank(relevant, retrieved):\n",
        "    for idx, rec in enumerate(retrieved, 1):\n",
        "        if rec.lower().strip() in relevant:\n",
        "            return 1 / idx\n",
        "    return 0\n",
        "\n",
        "# 🚀 เก็บผลลัพธ์\n",
        "precisions = []\n",
        "recalls = []\n",
        "mrrs = []\n",
        "\n",
        "print(\"🔄 กำลังคำนวณ Precision, Recall, และ MRR...\")\n",
        "\n",
        "for idx, item in enumerate(rag_results, 1):\n",
        "    if 'answer' not in item or 'recommendations' not in item:\n",
        "        print(f\"⚠️ ข้อที่ {idx} ไม่มีคำตอบหรือคำแนะนำ ข้ามไป...\")\n",
        "        continue\n",
        "\n",
        "    # ✅ รองรับคำตอบหลายรายการ\n",
        "    if isinstance(item['answer'], list):\n",
        "        relevant_answers = [ans.lower().strip() for ans in item['answer']]\n",
        "    else:\n",
        "        relevant_answers = [item['answer'].lower().strip()]\n",
        "\n",
        "    retrieved = [r.lower().strip() for r in item['recommendations']]\n",
        "\n",
        "    p = precision_at_k(relevant_answers, retrieved, K)\n",
        "    r = recall_at_k(relevant_answers, retrieved, K)\n",
        "    mrr = mean_reciprocal_rank(relevant_answers, retrieved)\n",
        "\n",
        "    precisions.append(p)\n",
        "    recalls.append(r)\n",
        "    mrrs.append(mrr)\n",
        "\n",
        "    if idx % 100 == 0 or idx == len(rag_results):\n",
        "        print(f\"✅ ประมวลผลแล้ว {idx}/{len(rag_results)} คำถาม\")\n",
        "\n",
        "# 🚀 สรุปผลลัพธ์\n",
        "avg_precision = sum(precisions) / len(precisions) if precisions else 0\n",
        "avg_recall = sum(recalls) / len(recalls) if recalls else 0\n",
        "avg_mrr = sum(mrrs) / len(mrrs) if mrrs else 0\n",
        "\n",
        "print(\"\\n🔎 ผลลัพธ์การประเมินผลด้วย RAG (BGE-M3)\")\n",
        "print(f\"Precision@{K}: {avg_precision:.3f}\")\n",
        "print(f\"Recall@{K}: {avg_recall:.3f}\")\n",
        "print(f\"Mean Reciprocal Rank (MRR): {avg_mrr:.3f}\")\n"
      ],
      "metadata": {
        "id": "4wDF8annQslF",
        "colab": {
          "base_uri": "https://localhost:8080/"
        },
        "outputId": "4e320559-448b-41b6-e58d-918f75c1fa2e"
      },
      "execution_count": 2,
      "outputs": [
        {
          "output_type": "stream",
          "name": "stdout",
          "text": [
            "🔄 กำลังคำนวณ Precision, Recall, และ MRR...\n",
            "✅ ประมวลผลแล้ว 100/1370 คำถาม\n",
            "✅ ประมวลผลแล้ว 200/1370 คำถาม\n",
            "✅ ประมวลผลแล้ว 300/1370 คำถาม\n",
            "✅ ประมวลผลแล้ว 400/1370 คำถาม\n",
            "✅ ประมวลผลแล้ว 500/1370 คำถาม\n",
            "✅ ประมวลผลแล้ว 600/1370 คำถาม\n",
            "✅ ประมวลผลแล้ว 700/1370 คำถาม\n",
            "✅ ประมวลผลแล้ว 800/1370 คำถาม\n",
            "✅ ประมวลผลแล้ว 900/1370 คำถาม\n",
            "✅ ประมวลผลแล้ว 1000/1370 คำถาม\n",
            "✅ ประมวลผลแล้ว 1100/1370 คำถาม\n",
            "✅ ประมวลผลแล้ว 1200/1370 คำถาม\n",
            "✅ ประมวลผลแล้ว 1300/1370 คำถาม\n",
            "✅ ประมวลผลแล้ว 1370/1370 คำถาม\n",
            "\n",
            "🔎 ผลลัพธ์การประเมินผลด้วย RAG (BGE-M3)\n",
            "Precision@3: 0.180\n",
            "Recall@3: 0.539\n",
            "Mean Reciprocal Rank (MRR): 0.453\n"
          ]
        }
      ]
    },
    {
      "cell_type": "markdown",
      "source": [
        "ให้ค่า K = 5"
      ],
      "metadata": {
        "id": "vrfKGpKeRSS-"
      }
    },
    {
      "cell_type": "code",
      "source": [
        "import json\n",
        "import chromadb\n",
        "\n",
        "# 🚀 โหลด Evaluation Dataset พร้อม Embeddings (จาก BGE-M3)\n",
        "evaluation_file = '/content/drive/MyDrive/LockLearn/evaluation_dataset_with_embeddings_v2_BGE_M3.json'\n",
        "with open(evaluation_file, 'r', encoding='utf-8') as f:\n",
        "    evaluation_data = json.load(f)\n",
        "\n",
        "print(f\"✅ โหลด Evaluation Dataset (BGE-M3) จำนวนคำถาม-คำตอบ: {len(evaluation_data)}\")\n",
        "\n",
        "# 🚀 เชื่อมต่อกับ Chroma DB เวอร์ชัน v5\n",
        "db_path = '/content/drive/MyDrive/LockLearn/chromadb_database_v5'\n",
        "client = chromadb.PersistentClient(path=db_path)\n",
        "collection = client.get_collection(name=\"recommendations\")\n",
        "\n",
        "# 🚀 ฟังก์ชัน RAG (Retrieve) เพื่อค้นหาคำแนะนำที่ใกล้เคียง\n",
        "def retrieve_recommendations(query_embedding, top_k=5):\n",
        "    results = collection.query(query_embeddings=[query_embedding], n_results=top_k)\n",
        "    return results['documents'][0] if results['documents'] else []\n",
        "\n",
        "# 🚀 ใช้ RAG ค้นหาคำแนะนำสำหรับทุกคำถามใน Dataset\n",
        "rag_results = []\n",
        "\n",
        "print(\"🔄 กำลังดึงคำแนะนำที่ใกล้เคียงด้วย RAG...\")\n",
        "\n",
        "for idx, item in enumerate(evaluation_data, 1):\n",
        "    query_embedding = item['embedding']\n",
        "    recommendations = retrieve_recommendations(query_embedding, top_k=5)\n",
        "\n",
        "    rag_results.append({\n",
        "        \"question\": item['question'],\n",
        "        \"answer\": item['answer'],\n",
        "        \"category\": item.get('category', 'Unknown'),\n",
        "        \"recommendations\": recommendations\n",
        "    })\n",
        "\n",
        "    if idx % 100 == 0 or idx == len(evaluation_data):\n",
        "        print(f\"✅ ประมวลผลแล้ว {idx}/{len(evaluation_data)} คำถาม\")\n",
        "\n",
        "# 🚀 บันทึกผลลัพธ์ RAG\n",
        "rag_results_file = '/content/drive/MyDrive/LockLearn/evaluation_rag_results_v2_BGE_M3_K=5.json'\n",
        "with open(rag_results_file, 'w', encoding='utf-8') as f:\n",
        "    json.dump(rag_results, f, ensure_ascii=False, indent=4)\n",
        "\n",
        "print(f'✅ บันทึกผลลัพธ์ RAG ที่: {rag_results_file}')\n"
      ],
      "metadata": {
        "id": "-u8P7HjRRTt8"
      },
      "execution_count": null,
      "outputs": []
    },
    {
      "cell_type": "markdown",
      "source": [
        "หาค่า Recall"
      ],
      "metadata": {
        "id": "nO4V0f81Rjml"
      }
    },
    {
      "cell_type": "code",
      "source": [
        "import json\n",
        "\n",
        "# 🚀 โหลด Evaluation Dataset (มี embeddings)\n",
        "evaluation_file = '/content/drive/MyDrive/LockLearn/evaluation_dataset_with_embeddings_v2_BGE_M3.json'\n",
        "with open(evaluation_file, 'r', encoding='utf-8') as f:\n",
        "    evaluation_data = json.load(f)\n",
        "\n",
        "# 🚀 โหลด RAG Results (จาก BGE-M3)\n",
        "rag_results_file = '/content/drive/MyDrive/LockLearn/evaluation_rag_results_v2_BGE_M3_K=5.json'\n",
        "with open(rag_results_file, 'r', encoding='utf-8') as f:\n",
        "    rag_results = json.load(f)\n",
        "\n",
        "K = 5  # จำนวนคำแนะนำที่ดึงมา\n",
        "\n",
        "# 🚀 ฟังก์ชันคำนวณ Precision@K\n",
        "def precision_at_k(relevant, retrieved, k):\n",
        "    retrieved_k = retrieved[:k]\n",
        "    hits = sum(1 for r in retrieved_k if r.lower().strip() in relevant)\n",
        "    return hits / k if k > 0 else 0\n",
        "\n",
        "# 🚀 ฟังก์ชันคำนวณ Recall@K\n",
        "def recall_at_k(relevant, retrieved, k):\n",
        "    retrieved_k = retrieved[:k]\n",
        "    hits = sum(1 for r in retrieved_k if r.lower().strip() in relevant)\n",
        "    return hits / len(relevant) if relevant else 0\n",
        "\n",
        "# 🚀 ฟังก์ชันคำนวณ Mean Reciprocal Rank (MRR)\n",
        "def mean_reciprocal_rank(relevant, retrieved):\n",
        "    for idx, rec in enumerate(retrieved, 1):\n",
        "        if rec.lower().strip() in relevant:\n",
        "            return 1 / idx\n",
        "    return 0\n",
        "\n",
        "# 🚀 เก็บผลลัพธ์\n",
        "precisions = []\n",
        "recalls = []\n",
        "mrrs = []\n",
        "\n",
        "print(\"🔄 กำลังคำนวณ Precision, Recall, และ MRR...\")\n",
        "\n",
        "for idx, item in enumerate(rag_results, 1):\n",
        "    if 'answer' not in item or 'recommendations' not in item:\n",
        "        print(f\"⚠️ ข้อที่ {idx} ไม่มีคำตอบหรือคำแนะนำ ข้ามไป...\")\n",
        "        continue\n",
        "\n",
        "    # ✅ รองรับคำตอบหลายรายการ\n",
        "    if isinstance(item['answer'], list):\n",
        "        relevant_answers = [ans.lower().strip() for ans in item['answer']]\n",
        "    else:\n",
        "        relevant_answers = [item['answer'].lower().strip()]\n",
        "\n",
        "    retrieved = [r.lower().strip() for r in item['recommendations']]\n",
        "\n",
        "    p = precision_at_k(relevant_answers, retrieved, K)\n",
        "    r = recall_at_k(relevant_answers, retrieved, K)\n",
        "    mrr = mean_reciprocal_rank(relevant_answers, retrieved)\n",
        "\n",
        "    precisions.append(p)\n",
        "    recalls.append(r)\n",
        "    mrrs.append(mrr)\n",
        "\n",
        "    if idx % 100 == 0 or idx == len(rag_results):\n",
        "        print(f\"✅ ประมวลผลแล้ว {idx}/{len(rag_results)} คำถาม\")\n",
        "\n",
        "# 🚀 สรุปผลลัพธ์\n",
        "avg_precision = sum(precisions) / len(precisions) if precisions else 0\n",
        "avg_recall = sum(recalls) / len(recalls) if recalls else 0\n",
        "avg_mrr = sum(mrrs) / len(mrrs) if mrrs else 0\n",
        "\n",
        "print(\"\\n🔎 ผลลัพธ์การประเมินผลด้วย RAG (BGE-M3)\")\n",
        "print(f\"Precision@{K}: {avg_precision:.3f}\")\n",
        "print(f\"Recall@{K}: {avg_recall:.3f}\")\n",
        "print(f\"Mean Reciprocal Rank (MRR): {avg_mrr:.3f}\")\n"
      ],
      "metadata": {
        "id": "LwF3M9SgRlOD",
        "colab": {
          "base_uri": "https://localhost:8080/"
        },
        "outputId": "0bf33f2f-f707-46d3-fe79-8f1bcbe84639"
      },
      "execution_count": 3,
      "outputs": [
        {
          "output_type": "stream",
          "name": "stdout",
          "text": [
            "🔄 กำลังคำนวณ Precision, Recall, และ MRR...\n",
            "✅ ประมวลผลแล้ว 100/1370 คำถาม\n",
            "✅ ประมวลผลแล้ว 200/1370 คำถาม\n",
            "✅ ประมวลผลแล้ว 300/1370 คำถาม\n",
            "✅ ประมวลผลแล้ว 400/1370 คำถาม\n",
            "✅ ประมวลผลแล้ว 500/1370 คำถาม\n",
            "✅ ประมวลผลแล้ว 600/1370 คำถาม\n",
            "✅ ประมวลผลแล้ว 700/1370 คำถาม\n",
            "✅ ประมวลผลแล้ว 800/1370 คำถาม\n",
            "✅ ประมวลผลแล้ว 900/1370 คำถาม\n",
            "✅ ประมวลผลแล้ว 1000/1370 คำถาม\n",
            "✅ ประมวลผลแล้ว 1100/1370 คำถาม\n",
            "✅ ประมวลผลแล้ว 1200/1370 คำถาม\n",
            "✅ ประมวลผลแล้ว 1300/1370 คำถาม\n",
            "✅ ประมวลผลแล้ว 1370/1370 คำถาม\n",
            "\n",
            "🔎 ผลลัพธ์การประเมินผลด้วย RAG (BGE-M3)\n",
            "Precision@5: 0.119\n",
            "Recall@5: 0.596\n",
            "Mean Reciprocal Rank (MRR): 0.467\n"
          ]
        }
      ]
    },
    {
      "cell_type": "markdown",
      "source": [
        "ให้ค่า K = 10"
      ],
      "metadata": {
        "id": "w_78h8GQRnC7"
      }
    },
    {
      "cell_type": "code",
      "source": [
        "import json\n",
        "import chromadb\n",
        "\n",
        "# 🚀 โหลด Evaluation Dataset พร้อม Embeddings (จาก BGE-M3)\n",
        "evaluation_file = '/content/drive/MyDrive/LockLearn/evaluation_dataset_with_embeddings_v2_BGE_M3.json'\n",
        "with open(evaluation_file, 'r', encoding='utf-8') as f:\n",
        "    evaluation_data = json.load(f)\n",
        "\n",
        "print(f\"✅ โหลด Evaluation Dataset (BGE-M3) จำนวนคำถาม-คำตอบ: {len(evaluation_data)}\")\n",
        "\n",
        "# 🚀 เชื่อมต่อกับ Chroma DB เวอร์ชัน v5\n",
        "db_path = '/content/drive/MyDrive/LockLearn/chromadb_database_v5'\n",
        "client = chromadb.PersistentClient(path=db_path)\n",
        "collection = client.get_collection(name=\"recommendations\")\n",
        "\n",
        "# 🚀 ฟังก์ชัน RAG (Retrieve) เพื่อค้นหาคำแนะนำที่ใกล้เคียง\n",
        "def retrieve_recommendations(query_embedding, top_k=10):\n",
        "    results = collection.query(query_embeddings=[query_embedding], n_results=top_k)\n",
        "    return results['documents'][0] if results['documents'] else []\n",
        "\n",
        "# 🚀 ใช้ RAG ค้นหาคำแนะนำสำหรับทุกคำถามใน Dataset\n",
        "rag_results = []\n",
        "\n",
        "print(\"🔄 กำลังดึงคำแนะนำที่ใกล้เคียงด้วย RAG...\")\n",
        "\n",
        "for idx, item in enumerate(evaluation_data, 1):\n",
        "    query_embedding = item['embedding']\n",
        "    recommendations = retrieve_recommendations(query_embedding, top_k=10)\n",
        "\n",
        "    rag_results.append({\n",
        "        \"question\": item['question'],\n",
        "        \"answer\": item['answer'],\n",
        "        \"category\": item.get('category', 'Unknown'),\n",
        "        \"recommendations\": recommendations\n",
        "    })\n",
        "\n",
        "    if idx % 100 == 0 or idx == len(evaluation_data):\n",
        "        print(f\"✅ ประมวลผลแล้ว {idx}/{len(evaluation_data)} คำถาม\")\n",
        "\n",
        "# 🚀 บันทึกผลลัพธ์ RAG\n",
        "rag_results_file = '/content/drive/MyDrive/LockLearn/evaluation_rag_results_v2_BGE_M3_K=10.json'\n",
        "with open(rag_results_file, 'w', encoding='utf-8') as f:\n",
        "    json.dump(rag_results, f, ensure_ascii=False, indent=4)\n",
        "\n",
        "print(f'✅ บันทึกผลลัพธ์ RAG ที่: {rag_results_file}')\n"
      ],
      "metadata": {
        "id": "OPzfyq5JRose"
      },
      "execution_count": null,
      "outputs": []
    },
    {
      "cell_type": "markdown",
      "source": [
        "หาค่า Recall"
      ],
      "metadata": {
        "id": "Vza8WlrzRqQL"
      }
    },
    {
      "cell_type": "code",
      "source": [
        "import json\n",
        "\n",
        "# 🚀 โหลด Evaluation Dataset (มี embeddings)\n",
        "evaluation_file = '/content/drive/MyDrive/LockLearn/evaluation_dataset_with_embeddings_v2_BGE_M3.json'\n",
        "with open(evaluation_file, 'r', encoding='utf-8') as f:\n",
        "    evaluation_data = json.load(f)\n",
        "\n",
        "# 🚀 โหลด RAG Results (จาก BGE-M3)\n",
        "rag_results_file = '/content/drive/MyDrive/LockLearn/evaluation_rag_results_v2_BGE_M3_K=10.json'\n",
        "with open(rag_results_file, 'r', encoding='utf-8') as f:\n",
        "    rag_results = json.load(f)\n",
        "\n",
        "K = 10  # จำนวนคำแนะนำที่ดึงมา\n",
        "\n",
        "# 🚀 ฟังก์ชันคำนวณ Precision@K\n",
        "def precision_at_k(relevant, retrieved, k):\n",
        "    retrieved_k = retrieved[:k]\n",
        "    hits = sum(1 for r in retrieved_k if r.lower().strip() in relevant)\n",
        "    return hits / k if k > 0 else 0\n",
        "\n",
        "# 🚀 ฟังก์ชันคำนวณ Recall@K\n",
        "def recall_at_k(relevant, retrieved, k):\n",
        "    retrieved_k = retrieved[:k]\n",
        "    hits = sum(1 for r in retrieved_k if r.lower().strip() in relevant)\n",
        "    return hits / len(relevant) if relevant else 0\n",
        "\n",
        "# 🚀 ฟังก์ชันคำนวณ Mean Reciprocal Rank (MRR)\n",
        "def mean_reciprocal_rank(relevant, retrieved):\n",
        "    for idx, rec in enumerate(retrieved, 1):\n",
        "        if rec.lower().strip() in relevant:\n",
        "            return 1 / idx\n",
        "    return 0\n",
        "\n",
        "# 🚀 เก็บผลลัพธ์\n",
        "precisions = []\n",
        "recalls = []\n",
        "mrrs = []\n",
        "\n",
        "print(\"🔄 กำลังคำนวณ Precision, Recall, และ MRR...\")\n",
        "\n",
        "for idx, item in enumerate(rag_results, 1):\n",
        "    if 'answer' not in item or 'recommendations' not in item:\n",
        "        print(f\"⚠️ ข้อที่ {idx} ไม่มีคำตอบหรือคำแนะนำ ข้ามไป...\")\n",
        "        continue\n",
        "\n",
        "    # ✅ รองรับคำตอบหลายรายการ\n",
        "    if isinstance(item['answer'], list):\n",
        "        relevant_answers = [ans.lower().strip() for ans in item['answer']]\n",
        "    else:\n",
        "        relevant_answers = [item['answer'].lower().strip()]\n",
        "\n",
        "    retrieved = [r.lower().strip() for r in item['recommendations']]\n",
        "\n",
        "    p = precision_at_k(relevant_answers, retrieved, K)\n",
        "    r = recall_at_k(relevant_answers, retrieved, K)\n",
        "    mrr = mean_reciprocal_rank(relevant_answers, retrieved)\n",
        "\n",
        "    precisions.append(p)\n",
        "    recalls.append(r)\n",
        "    mrrs.append(mrr)\n",
        "\n",
        "    if idx % 100 == 0 or idx == len(rag_results):\n",
        "        print(f\"✅ ประมวลผลแล้ว {idx}/{len(rag_results)} คำถาม\")\n",
        "\n",
        "# 🚀 สรุปผลลัพธ์\n",
        "avg_precision = sum(precisions) / len(precisions) if precisions else 0\n",
        "avg_recall = sum(recalls) / len(recalls) if recalls else 0\n",
        "avg_mrr = sum(mrrs) / len(mrrs) if mrrs else 0\n",
        "\n",
        "print(\"\\n🔎 ผลลัพธ์การประเมินผลด้วย RAG (BGE-M3)\")\n",
        "print(f\"Precision@{K}: {avg_precision:.3f}\")\n",
        "print(f\"Recall@{K}: {avg_recall:.3f}\")\n",
        "print(f\"Mean Reciprocal Rank (MRR): {avg_mrr:.3f}\")\n"
      ],
      "metadata": {
        "id": "Ko-Fnp0lRrkZ",
        "colab": {
          "base_uri": "https://localhost:8080/"
        },
        "outputId": "7037f805-ab3c-4101-f18c-bfaae6efb028"
      },
      "execution_count": 4,
      "outputs": [
        {
          "output_type": "stream",
          "name": "stdout",
          "text": [
            "🔄 กำลังคำนวณ Precision, Recall, และ MRR...\n",
            "✅ ประมวลผลแล้ว 100/1370 คำถาม\n",
            "✅ ประมวลผลแล้ว 200/1370 คำถาม\n",
            "✅ ประมวลผลแล้ว 300/1370 คำถาม\n",
            "✅ ประมวลผลแล้ว 400/1370 คำถาม\n",
            "✅ ประมวลผลแล้ว 500/1370 คำถาม\n",
            "✅ ประมวลผลแล้ว 600/1370 คำถาม\n",
            "✅ ประมวลผลแล้ว 700/1370 คำถาม\n",
            "✅ ประมวลผลแล้ว 800/1370 คำถาม\n",
            "✅ ประมวลผลแล้ว 900/1370 คำถาม\n",
            "✅ ประมวลผลแล้ว 1000/1370 คำถาม\n",
            "✅ ประมวลผลแล้ว 1100/1370 คำถาม\n",
            "✅ ประมวลผลแล้ว 1200/1370 คำถาม\n",
            "✅ ประมวลผลแล้ว 1300/1370 คำถาม\n",
            "✅ ประมวลผลแล้ว 1370/1370 คำถาม\n",
            "\n",
            "🔎 ผลลัพธ์การประเมินผลด้วย RAG (BGE-M3)\n",
            "Precision@10: 0.067\n",
            "Recall@10: 0.674\n",
            "Mean Reciprocal Rank (MRR): 0.477\n"
          ]
        }
      ]
    },
    {
      "cell_type": "markdown",
      "source": [
        "\n",
        "\n",
        "\n",
        "**Thai Evaluation dataset**"
      ],
      "metadata": {
        "id": "WadnUs-BS-3s"
      }
    },
    {
      "cell_type": "markdown",
      "source": [
        "ทำการ Embedding ด้วยโมเดล BGE - M3"
      ],
      "metadata": {
        "id": "-WiCtO6KTQpS"
      }
    },
    {
      "cell_type": "code",
      "source": [
        "import torch\n",
        "from transformers import AutoTokenizer, AutoModel\n",
        "import json\n",
        "\n",
        "# 🔧 กำหนดเส้นทางไฟล์ใหม่สำหรับ BGE-M3\n",
        "input_file = '/content/drive/MyDrive/LockLearn/evaluation_dataset_TH.json'\n",
        "output_file = '/content/drive/MyDrive/LockLearn/evaluation_dataset_TH_embedded_BGE_M3.json'\n",
        "\n",
        "# 🚀 โหลดโมเดล BGE-M3 จาก Hugging Face\n",
        "model_name = 'BAAI/bge-m3'\n",
        "tokenizer = AutoTokenizer.from_pretrained(model_name)\n",
        "model = AutoModel.from_pretrained(model_name)\n",
        "model.eval()\n",
        "\n",
        "# ตรวจสอบว่ามี GPU ใช้งานไหม แล้วย้ายโมเดลไปที่ device นั้น\n",
        "device = torch.device('cuda' if torch.cuda.is_available() else 'cpu')\n",
        "model.to(device)\n",
        "\n",
        "# 🔥 ฟังก์ชันสร้าง Embedding ด้วย mean pooling\n",
        "def mean_pooling(model_output, attention_mask):\n",
        "    token_embeddings = model_output.last_hidden_state  # ใช้ last_hidden_state\n",
        "    input_mask_expanded = attention_mask.unsqueeze(-1).expand(token_embeddings.size()).float()\n",
        "    return torch.sum(token_embeddings * input_mask_expanded, 1) / torch.clamp(input_mask_expanded.sum(1), min=1e-9)\n",
        "\n",
        "def create_embedding(text):\n",
        "    inputs = tokenizer(text, return_tensors=\"pt\", truncation=True, padding=True).to(device)\n",
        "    with torch.no_grad():\n",
        "        model_output = model(**inputs)\n",
        "    embedding = mean_pooling(model_output, inputs['attention_mask'])\n",
        "    return embedding[0].cpu().numpy().tolist()\n",
        "\n",
        "# 🚀 โหลดข้อมูลจากไฟล์\n",
        "with open(input_file, 'r', encoding='utf-8') as f:\n",
        "    data = json.load(f)\n",
        "\n",
        "print(f\"✅ รวมคำถามทั้งหมด: {len(data)}\")\n",
        "\n",
        "# เริ่มสร้าง embedding สำหรับแต่ละคำถาม\n",
        "for index, item in enumerate(data, start=1):\n",
        "    text = item.get(\"translated_question\", \"\")\n",
        "    if text:\n",
        "        item['question_embedding'] = create_embedding(text)\n",
        "        print(f\"✅ คำถามที่ {index} ได้รับการสร้าง Embedding แล้ว\")\n",
        "\n",
        "# 💾 บันทึกไฟล์ผลลัพธ์\n",
        "with open(output_file, 'w', encoding='utf-8') as f:\n",
        "    json.dump(data, f, ensure_ascii=False, indent=4)\n",
        "\n",
        "print(\"✅ เสร็จสิ้นการสร้าง Embedding ทั้งหมดด้วย BGE-M3\")\n"
      ],
      "metadata": {
        "id": "FYWXnt7dTCrH"
      },
      "execution_count": null,
      "outputs": []
    },
    {
      "cell_type": "markdown",
      "source": [
        "test ว่าเชื่อมกับ Evaluation dataset ได้มั้ย"
      ],
      "metadata": {
        "id": "FAOdH7RbTbY6"
      }
    },
    {
      "cell_type": "code",
      "source": [
        "import json\n",
        "import chromadb\n",
        "\n",
        "# 🚀 โหลด Evaluation Dataset พร้อม Embeddings (แก้ชื่อไฟล์ให้ตรงกับไฟล์ที่สร้าง embedding ล่าสุด)\n",
        "evaluation_file = '/content/drive/MyDrive/LockLearn/evaluation_dataset_TH_embedded_BGE_M3.json'\n",
        "with open(evaluation_file, 'r', encoding='utf-8') as f:\n",
        "    evaluation_data = json.load(f)\n",
        "\n",
        "print(f\"✅ โหลด Evaluation Dataset พร้อม Embeddings จำนวนคำถาม-คำตอบ: {len(evaluation_data)}\")\n",
        "\n",
        "# 🚀 เชื่อมต่อกับ Chroma DB (แก้ path ให้ถูกต้องตามฐานข้อมูลใหม่)\n",
        "db_path = '/content/drive/MyDrive/LockLearn/chromadb_database_v5'\n",
        "client = chromadb.PersistentClient(path=db_path)\n",
        "collection = client.get_collection(name=\"recommendations\")\n",
        "\n",
        "# 🚀 ฟังก์ชัน RAG ดึงคำแนะนำที่ใกล้เคียง\n",
        "def retrieve_recommendations(question_embedding, top_k=3):\n",
        "    # ตรวจสอบชนิดของ embedding ให้เป็น list (ถ้าเป็น numpy array หรือ torch tensor ให้แปลงก่อน)\n",
        "    if not isinstance(question_embedding, list):\n",
        "        question_embedding = question_embedding.tolist()\n",
        "\n",
        "    results = collection.query(\n",
        "        query_embeddings=[question_embedding],\n",
        "        n_results=top_k\n",
        "    )\n",
        "    return results['documents'][0] if results['documents'] else []\n",
        "\n",
        "print(\"✅ พร้อมสำหรับการค้นหาคำแนะนำด้วย RAG\")\n",
        "\n",
        "# 🚀 ทดลองดึงคำแนะนำที่ใกล้เคียงสำหรับคำถามแรก\n",
        "test_question = evaluation_data[0].get('translated_question', evaluation_data[0].get('question', ''))\n",
        "test_embedding = evaluation_data[0]['question_embedding']\n",
        "\n",
        "recommendations = retrieve_recommendations(test_embedding)\n",
        "print(f\"\\n🔎 คำถาม: {test_question}\\n✅ คำแนะนำที่ใกล้เคียง:\\n\")\n",
        "\n",
        "for idx, rec in enumerate(recommendations, 1):\n",
        "    print(f\"{idx}. {rec}\")\n"
      ],
      "metadata": {
        "id": "Cvcl0fOqTgWT"
      },
      "execution_count": null,
      "outputs": []
    },
    {
      "cell_type": "markdown",
      "source": [
        "ให้ค่า K = 3"
      ],
      "metadata": {
        "id": "KIcRS2gjTjQb"
      }
    },
    {
      "cell_type": "code",
      "source": [
        "import json\n",
        "import chromadb\n",
        "\n",
        "# 🚀 โหลด Evaluation Dataset พร้อม Embeddings\n",
        "evaluation_file = '/content/drive/MyDrive/LockLearn/evaluation_dataset_TH_embedded_BGE_M3.json'\n",
        "with open(evaluation_file, 'r', encoding='utf-8') as f:\n",
        "    evaluation_data = json.load(f)\n",
        "\n",
        "print(f\"✅ โหลด Evaluation Dataset พร้อม Embeddings จำนวนคำถาม-คำตอบ: {len(evaluation_data)}\")\n",
        "\n",
        "# 🚀 เชื่อมต่อกับ Chroma DB\n",
        "db_path = '/content/drive/MyDrive/LockLearn/chromadb_database_v5'\n",
        "client = chromadb.PersistentClient(path=db_path)\n",
        "collection = client.get_collection(name=\"recommendations\")\n",
        "\n",
        "# 🚀 ฟังก์ชัน RAG (Retrieve) เพื่อค้นหาคำแนะนำที่ใกล้เคียง\n",
        "def retrieve_recommendations(query_embedding, top_k=3):\n",
        "    # ถ้า embedding ไม่ใช่ list ให้แปลงเป็น list ก่อน\n",
        "    if not isinstance(query_embedding, list):\n",
        "        query_embedding = query_embedding.tolist()\n",
        "    results = collection.query(query_embeddings=[query_embedding], n_results=top_k)\n",
        "    return results['documents'][0] if results['documents'] else []\n",
        "\n",
        "# 🚀 ใช้ RAG ค้นหาคำแนะนำสำหรับทุกคำถามใน Dataset\n",
        "rag_results = []\n",
        "\n",
        "print(\"🔄 กำลังดึงคำแนะนำที่ใกล้เคียงด้วย RAG...\")\n",
        "\n",
        "for idx, item in enumerate(evaluation_data, 1):\n",
        "    if 'question_embedding' not in item:\n",
        "        print(f\"⚠️ ข้อที่ {idx} ไม่มี key 'question_embedding' ข้ามไป...\")\n",
        "        continue\n",
        "\n",
        "    query_embedding = item['question_embedding']\n",
        "    recommendations = retrieve_recommendations(query_embedding, top_k=3)\n",
        "\n",
        "    rag_results.append({\n",
        "        \"question\": item.get('translated_question', ''),\n",
        "        \"answer\": item.get('translated_answer', ''),\n",
        "        \"recommendations\": recommendations\n",
        "    })\n",
        "\n",
        "    if idx % 100 == 0 or idx == len(evaluation_data):\n",
        "        print(f\"✅ ประมวลผลแล้ว {idx}/{len(evaluation_data)} คำถาม\")\n",
        "\n",
        "# 🚀 บันทึกผลลัพธ์ RAG\n",
        "rag_results_file = '/content/drive/MyDrive/LockLearn/evaluation_rag_results_v2_TH_BGE_M3_K=3.json'\n",
        "with open(rag_results_file, 'w', encoding='utf-8') as f:\n",
        "    json.dump(rag_results, f, ensure_ascii=False, indent=4)\n",
        "\n",
        "print(f'✅ บันทึกผลลัพธ์ RAG ที่: {rag_results_file}')\n"
      ],
      "metadata": {
        "id": "nagvoqElTlt5"
      },
      "execution_count": null,
      "outputs": []
    },
    {
      "cell_type": "markdown",
      "source": [
        "หาค่า Recall"
      ],
      "metadata": {
        "id": "UWkQqLaMTnlR"
      }
    },
    {
      "cell_type": "code",
      "source": [
        "import json\n",
        "\n",
        "# 🚀 โหลดไฟล์ evaluation dataset (คำถาม-คำตอบจริง)\n",
        "evaluation_file = '/content/drive/MyDrive/LockLearn/evaluation_dataset_TH_embedded_BGE_M3.json'  # แก้เป็นไฟล์ล่าสุด\n",
        "with open(evaluation_file, 'r', encoding='utf-8') as f:\n",
        "    evaluation_data = json.load(f)\n",
        "\n",
        "# 🚀 โหลดไฟล์ผลลัพธ์ RAG (คำถาม + คำแนะนำที่ดึงมา)\n",
        "rag_results_file = '/content/drive/MyDrive/LockLearn/evaluation_rag_results_v2_TH_BGE_M3_K=3.json'  # แก้ชื่อไฟล์ตามที่บันทึกไว้ก่อนหน้า\n",
        "with open(rag_results_file, 'r', encoding='utf-8') as f:\n",
        "    rag_results = json.load(f)\n",
        "\n",
        "K = 3  # จำนวนคำแนะนำที่ดึงมา (top_k)\n",
        "\n",
        "# 🚀 ฟังก์ชันคำนวณ Precision@K\n",
        "def precision_at_k(relevant, retrieved, k):\n",
        "    retrieved_k = retrieved[:k]\n",
        "    hits = sum(1 for r in retrieved_k if r in relevant)\n",
        "    return hits / k if k > 0 else 0\n",
        "\n",
        "# 🚀 ฟังก์ชันคำนวณ Recall@K\n",
        "def recall_at_k(relevant, retrieved, k):\n",
        "    retrieved_k = retrieved[:k]\n",
        "    hits = sum(1 for r in retrieved_k if r in relevant)\n",
        "    return hits / len(relevant) if relevant else 0\n",
        "\n",
        "# 🚀 ฟังก์ชันคำนวณ Mean Reciprocal Rank (MRR)\n",
        "def mean_reciprocal_rank(relevant, retrieved):\n",
        "    for idx, rec in enumerate(retrieved, 1):\n",
        "        if rec in relevant:\n",
        "            return 1 / idx\n",
        "    return 0\n",
        "\n",
        "# 🚀 เก็บผลลัพธ์คำนวณต่างๆ\n",
        "precisions = []\n",
        "recalls = []\n",
        "mrrs = []\n",
        "\n",
        "print(\"🔄 กำลังคำนวณ Precision, Recall, และ MRR...\")\n",
        "\n",
        "for idx, item in enumerate(rag_results, 1):\n",
        "    # ตรวจสอบว่ามีคำตอบและคำแนะนำหรือไม่\n",
        "    if 'translated_answer' not in item or 'recommendations' not in item:\n",
        "        print(f\"⚠️ ข้อที่ {idx} ไม่มีคำตอบหรือคำแนะนำ ข้ามไป...\")\n",
        "        continue\n",
        "\n",
        "    # คำตอบจริง (รองรับทั้ง str หรือ list)\n",
        "    relevant_answers = [item['translated_answer']] if isinstance(item['translated_answer'], str) else item['translated_answer']\n",
        "\n",
        "    # คำแนะนำที่ดึงมา (list of strings)\n",
        "    retrieved = item['recommendations']\n",
        "\n",
        "    # คำนวณ Metrics\n",
        "    p = precision_at_k(relevant_answers, retrieved, K)\n",
        "    r = recall_at_k(relevant_answers, retrieved, K)\n",
        "    mrr = mean_reciprocal_rank(relevant_answers, retrieved)\n",
        "\n",
        "    precisions.append(p)\n",
        "    recalls.append(r)\n",
        "    mrrs.append(mrr)\n",
        "\n",
        "    if idx % 100 == 0 or idx == len(rag_results):\n",
        "        print(f\"✅ ประมวลผลแล้ว {idx}/{len(rag_results)} คำถาม\")\n",
        "\n",
        "# 🚀 คำนวณค่าเฉลี่ยของ Precision, Recall, MRR ทั้งหมด\n",
        "avg_precision = sum(precisions) / len(precisions) if precisions else 0\n",
        "avg_recall = sum(recalls) / len(recalls) if recalls else 0\n",
        "avg_mrr = sum(mrrs) / len(mrrs) if mrrs else 0\n",
        "\n",
        "print(\"\\n🔎 ผลลัพธ์การประเมินผลด้วย RAG\")\n",
        "print(f\"Precision@{K}: {avg_precision:.3f}\")\n",
        "print(f\"Recall@{K}: {avg_recall:.3f}\")\n",
        "print(f\"Mean Reciprocal Rank (MRR): {avg_mrr:.3f}\")\n"
      ],
      "metadata": {
        "id": "KwWycAPaTpku",
        "colab": {
          "base_uri": "https://localhost:8080/"
        },
        "outputId": "1c775aca-3a6f-44ea-a4aa-540277721318"
      },
      "execution_count": null,
      "outputs": [
        {
          "output_type": "stream",
          "name": "stdout",
          "text": [
            "🔄 กำลังคำนวณ Precision, Recall, และ MRR...\n",
            "✅ ประมวลผลแล้ว 100/1370 คำถาม\n",
            "✅ ประมวลผลแล้ว 200/1370 คำถาม\n",
            "✅ ประมวลผลแล้ว 300/1370 คำถาม\n",
            "✅ ประมวลผลแล้ว 400/1370 คำถาม\n",
            "✅ ประมวลผลแล้ว 500/1370 คำถาม\n",
            "✅ ประมวลผลแล้ว 600/1370 คำถาม\n",
            "✅ ประมวลผลแล้ว 700/1370 คำถาม\n",
            "✅ ประมวลผลแล้ว 800/1370 คำถาม\n",
            "✅ ประมวลผลแล้ว 900/1370 คำถาม\n",
            "✅ ประมวลผลแล้ว 1000/1370 คำถาม\n",
            "✅ ประมวลผลแล้ว 1100/1370 คำถาม\n",
            "✅ ประมวลผลแล้ว 1200/1370 คำถาม\n",
            "✅ ประมวลผลแล้ว 1300/1370 คำถาม\n",
            "✅ ประมวลผลแล้ว 1370/1370 คำถาม\n",
            "\n",
            "🔎 ผลลัพธ์การประเมินผลด้วย RAG\n",
            "Precision@3: 0.169\n",
            "Recall@3: 0.506\n",
            "Mean Reciprocal Rank (MRR): 0.431\n"
          ]
        }
      ]
    }
  ]
}