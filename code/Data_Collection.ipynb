{
  "nbformat": 4,
  "nbformat_minor": 0,
  "metadata": {
    "colab": {
      "provenance": []
    },
    "kernelspec": {
      "name": "python3",
      "display_name": "Python 3"
    },
    "language_info": {
      "name": "python"
    }
  },
  "cells": [
    {
      "cell_type": "markdown",
      "source": [
        "# **คำเเนะนำก่อนทำการรันโค้ด**\n",
        "\n",
        "\n",
        "*  ทำการสร้างโฟลเดอร์ที่ชื่อว่า LockLearn ไว้ใน drive เพื่อเก็บไฟล์สำหรับโปรเจค\n",
        "\n",
        "*   นำไฟล์ PDF ของหนังสือทั้งสองเล่มมาใส่ใน Google drive ดฟลเดอร์ LockLearn ของตนเองก่อนที่จะเริ่มทำอะไร\n"
      ],
      "metadata": {
        "id": "fbD1i39ZNRJp"
      }
    },
    {
      "cell_type": "code",
      "execution_count": null,
      "metadata": {
        "id": "e7QM7PPUKCkx"
      },
      "outputs": [],
      "source": [
        "from google.colab import drive\n",
        "drive.mount('/content/drive')\n"
      ]
    },
    {
      "cell_type": "markdown",
      "source": [
        "**ดาวโหลดสิ่งที่จำเป็นต้องใช้ก่อนที่จะเข้าไปรันโค้ด**"
      ],
      "metadata": {
        "id": "Kt0Tn_7tMsIw"
      }
    },
    {
      "cell_type": "code",
      "source": [
        "!pip install pytesseract pdf2image transformers accelerate \\\n",
        "    sentence-transformers faiss-cpu langchain \\\n",
        "    unstructured chromadb streamlit \\\n",
        "    torchvision torchaudio --quiet\n",
        "\n",
        "# OCR tools\n",
        "!apt install poppler-utils tesseract-ocr -y\n"
      ],
      "metadata": {
        "id": "w5bJbijJMrSN"
      },
      "execution_count": null,
      "outputs": []
    },
    {
      "cell_type": "markdown",
      "source": [
        "1. ทำการเเปลงไฟล์ PDF หนังสือให้เป็น ตัวอักษร ด้วยการ OCR"
      ],
      "metadata": {
        "id": "1sIhK2XANxb1"
      }
    },
    {
      "cell_type": "code",
      "source": [
        "# เล่มที่ 1\n",
        "import pytesseract\n",
        "from pdf2image import convert_from_path\n",
        "import tempfile\n",
        "\n",
        "def pdf_to_text_efficient(pdf_path):\n",
        "    full_text = \"\"\n",
        "    with tempfile.TemporaryDirectory() as path:\n",
        "        images = convert_from_path(pdf_path, output_folder=path)\n",
        "        for i, page in enumerate(images):\n",
        "            print(f\"🔄 OCR page {i+1}\")\n",
        "            text = pytesseract.image_to_string(page)\n",
        "            full_text += text + \"\\n\"\n",
        "    return full_text\n",
        "\n",
        "text = pdf_to_text_efficient('/content/drive/MyDrive/LockLearn/book.pdf')"
      ],
      "metadata": {
        "id": "NaDbo1m6OnMV"
      },
      "execution_count": null,
      "outputs": []
    },
    {
      "cell_type": "code",
      "source": [
        "# เล่มที่ 2\n",
        "import pytesseract\n",
        "from pdf2image import convert_from_path\n",
        "import tempfile\n",
        "\n",
        "def pdf_to_text_efficient_2(pdf_path):\n",
        "    full_text = \"\"\n",
        "    with tempfile.TemporaryDirectory() as path:\n",
        "        images = convert_from_path(pdf_path, output_folder=path)\n",
        "        for i, page in enumerate(images):\n",
        "            print(f\"🔄 OCR page {i+1} of Book 2\")\n",
        "            text = pytesseract.image_to_string(page)\n",
        "            full_text += text + \"\\n\"\n",
        "    return full_text\n",
        "\n",
        "text2 = pdf_to_text_efficient_2('/content/drive/MyDrive/LockLearn/book2.pdf')\n",
        "print(\"OCR เล่มที่ 2 เสร็จสมบูรณ์\")"
      ],
      "metadata": {
        "id": "R47XbrsIOpS8"
      },
      "execution_count": null,
      "outputs": []
    },
    {
      "cell_type": "markdown",
      "source": [
        "2. ทำการรวมไฟล์ทั้งสองที่ทำการ OCR ไว้ด้วยกัน เเล้วเก็ฐไว้ใน google drive"
      ],
      "metadata": {
        "id": "MJqCFORROv0B"
      }
    },
    {
      "cell_type": "code",
      "source": [
        "combined_text = text + \"\\n\" + text2\n",
        "\n",
        "with open(\"/content/drive/MyDrive/LockLearn/combined_text.txt\", \"w\") as f:\n",
        "    f.write(combined_text)\n",
        "\n",
        "print(\"✅ ข้อความถูกบันทึกลง combined_text.txt เรียบร้อยแล้ว\")"
      ],
      "metadata": {
        "id": "asBhaD5rO40S"
      },
      "execution_count": null,
      "outputs": []
    },
    {
      "cell_type": "markdown",
      "source": [
        "3. ทำการ Explore data ขั้นพื้นฐานเพื่อดู ว่ามีคำไหนที่ใช้บ่อยมั้ย เจอกี่คำ"
      ],
      "metadata": {
        "id": "zJEPyR3NO8sc"
      }
    },
    {
      "cell_type": "code",
      "source": [
        "with open(\"/content/drive/MyDrive/LockLearn/combined_text.txt\", \"r\", encoding=\"utf-8\") as f:\n",
        "    text = f.read()\n",
        "\n",
        "print(\"ความยาวทั้งหมด:\", len(text), \"ตัวอักษร\")\n",
        "print(\"จำนวนบรรทัดทั้งหมด:\", len(text.splitlines()))\n",
        "\n",
        "import re\n",
        "words = re.findall(r'\\b\\w+\\b', text)\n",
        "print(\"จำนวนคำ:\", len(words))\n",
        "\n",
        "from collections import Counter\n",
        "common_words = Counter(words).most_common(20)\n",
        "print(\"คำที่เจอบ่อย:\", common_words)\n"
      ],
      "metadata": {
        "id": "cDdyFItUPGjQ"
      },
      "execution_count": null,
      "outputs": []
    }
  ]
}