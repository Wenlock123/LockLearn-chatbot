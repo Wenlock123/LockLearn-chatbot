{
  "nbformat": 4,
  "nbformat_minor": 0,
  "metadata": {
    "colab": {
      "provenance": []
    },
    "kernelspec": {
      "name": "python3",
      "display_name": "Python 3"
    },
    "language_info": {
      "name": "python"
    }
  },
  "cells": [
    {
      "cell_type": "markdown",
      "source": [
        "# คำเเนะนำ\n",
        "\n",
        "*   ควรจะโหลดข้อมูลให้ครบ\n",
        "*   เชื่อม google drive\n",
        "\n",
        "\n",
        "\n",
        "\n",
        "**สิ่งที่จะใช้**\n",
        "\n",
        "*    Embedding model คือ BGE - M3\n",
        "*    vector database  ของ Chroma db\n",
        "*    RAG ของ langchain\n"
      ],
      "metadata": {
        "id": "DlakyaPPAHlI"
      }
    },
    {
      "cell_type": "markdown",
      "source": [
        "ทำการเชื่อม google drive"
      ],
      "metadata": {
        "id": "KC5Y5lrRAELS"
      }
    },
    {
      "cell_type": "code",
      "execution_count": null,
      "metadata": {
        "id": "91fyFLVuADW_"
      },
      "outputs": [],
      "source": [
        "from google.colab import drive\n",
        "drive.mount('/content/drive')\n"
      ]
    },
    {
      "cell_type": "markdown",
      "source": [
        "โหลดสิ่งที่จำเป็น"
      ],
      "metadata": {
        "id": "B3SiAclAAg2s"
      }
    },
    {
      "cell_type": "code",
      "source": [
        "!pip install transformers torch chromadb\n",
        "!pip install --upgrade torch torchvision torchaudio --index-url https://download.pytorch.org/whl/cu118\n",
        "!pip install -q langchain transformers chromadb requests\n",
        "!pip install -q langchain chromadb requests"
      ],
      "metadata": {
        "id": "SNAhkYaWAm-j"
      },
      "execution_count": null,
      "outputs": []
    },
    {
      "cell_type": "code",
      "source": [
        "!pip install --upgrade torch torchvision torchaudio --index-url https://download.pytorch.org/whl/cu118\n",
        "!pip install -q langchain transformers chromadb requests\n",
        "!pip install -q langchain chromadb requests\n"
      ],
      "metadata": {
        "id": "mYs1m_SfCuaC"
      },
      "execution_count": null,
      "outputs": []
    },
    {
      "cell_type": "markdown",
      "source": [
        "ใช้โมเดล BGE - M3"
      ],
      "metadata": {
        "id": "zLTim2uBCWRs"
      }
    },
    {
      "cell_type": "code",
      "source": [
        "from transformers import AutoTokenizer, AutoModel\n",
        "import torch\n",
        "import json\n",
        "import numpy as np\n",
        "\n",
        "# ✅ ใช้โมเดล BGE-M3\n",
        "model_name = \"BAAI/bge-m3\"\n",
        "tokenizer = AutoTokenizer.from_pretrained(model_name)\n",
        "model = AutoModel.from_pretrained(model_name)\n",
        "\n",
        "device = torch.device(\"cuda\" if torch.cuda.is_available() else \"cpu\")\n",
        "model.to(device)\n",
        "model.eval()\n",
        "\n",
        "# ✅ mean pooling function สำหรับ BGE\n",
        "def mean_pooling(model_output, attention_mask):\n",
        "    token_embeddings = model_output[0]  # last_hidden_state\n",
        "    input_mask_expanded = attention_mask.unsqueeze(-1).expand(token_embeddings.size()).float()\n",
        "    return (token_embeddings * input_mask_expanded).sum(1) / torch.clamp(input_mask_expanded.sum(1), min=1e-9)\n",
        "\n",
        "# ✅ ฟังก์ชันสร้าง embedding จากข้อความเดียว\n",
        "def embed_text(text):\n",
        "    # ถ้าจะใช้ตามแนวทาง BGE: prepend ด้วย \"passage: \" หรือ \"query: \" ตามบริบท\n",
        "    text = \"passage: \" + text.strip()\n",
        "\n",
        "    encoded_input = tokenizer(text, return_tensors=\"pt\", truncation=True, padding=True).to(device)\n",
        "    with torch.no_grad():\n",
        "        model_output = model(**encoded_input)\n",
        "\n",
        "    embedding = mean_pooling(model_output, encoded_input['attention_mask'])\n",
        "    return embedding.squeeze().cpu().numpy()\n",
        "\n",
        "# ✅ ฟังก์ชันสร้าง embedding สำหรับชุดคำแนะนำ\n",
        "def embed_recommendations(categorized_recommendations):\n",
        "    for idx, rec in enumerate(categorized_recommendations, start=1):\n",
        "        text = rec['text']\n",
        "        embedding = embed_text(text)\n",
        "        rec['embedding'] = embedding.tolist()\n",
        "        print(f\"✅ ข้อความที่ {idx} ได้รับการ embed แล้ว\")\n",
        "    return categorized_recommendations\n",
        "\n",
        "# ✅ บันทึกไฟล์ JSON\n",
        "def save_embeddings_to_file(data, output_file_path):\n",
        "    with open(output_file_path, 'w', encoding='utf-8') as f:\n",
        "        json.dump(data, f, ensure_ascii=False, indent=4)\n",
        "    print(f\"✅ บันทึกไฟล์ที่มีข้อมูล embedding ลงใน: {output_file_path}\")\n",
        "\n",
        "# ✅ โหลดไฟล์คำแนะนำ\n",
        "def read_recommendations(file_path):\n",
        "    with open(file_path, 'r', encoding='utf-8') as f:\n",
        "        data = json.load(f)\n",
        "    return data\n",
        "\n",
        "# ✅ Main\n",
        "file_path = '/content/drive/MyDrive/LockLearn/recommendations_with_categories.json'  # 🔄 เปลี่ยนได้ตาม path จริง\n",
        "recommendations = read_recommendations(file_path)\n",
        "\n",
        "recommendations_with_embeddings = embed_recommendations(recommendations)\n",
        "\n",
        "embedding_output_file = '/content/drive/MyDrive/LockLearn/recommendations_with_embeddings_BGE_M3.json'\n",
        "save_embeddings_to_file(recommendations_with_embeddings, embedding_output_file)\n",
        "\n",
        "print(\"✅ เสร็จสิ้นการทำ embedding และบันทึกข้อมูลลงไฟล์แยก\")\n"
      ],
      "metadata": {
        "id": "JkXCBadtCTEC"
      },
      "execution_count": null,
      "outputs": []
    },
    {
      "cell_type": "markdown",
      "source": [
        "สร้าง vector database"
      ],
      "metadata": {
        "id": "4Uk0KioZC3u8"
      }
    },
    {
      "cell_type": "code",
      "source": [
        "import chromadb\n",
        "import json\n",
        "\n",
        "# 🚀 โหลดไฟล์ embeddings ที่สร้างจาก BGE M3\n",
        "embedding_file = '/content/drive/MyDrive/LockLearn/recommendations_with_embeddings_BGE_M3.json'\n",
        "with open(embedding_file, 'r', encoding='utf-8') as f:\n",
        "    recommendations_with_embeddings = json.load(f)\n",
        "\n",
        "# 🚀 เชื่อมต่อกับ Chroma DB v5\n",
        "db_path = '/content/drive/MyDrive/LockLearn/chromadb_database_v5'\n",
        "client = chromadb.PersistentClient(path=db_path)\n",
        "\n",
        "# 🔄 ลบ Collection เก่า (ถ้ามีอยู่แล้ว)\n",
        "if \"recommendations\" in [col.name for col in client.list_collections()]:\n",
        "    client.delete_collection(name=\"recommendations\")\n",
        "\n",
        "# 🚀 สร้าง Collection ใหม่\n",
        "collection = client.get_or_create_collection(name=\"recommendations\")\n",
        "\n",
        "# 🚀 เพิ่มข้อมูล embeddings ลง Chroma DB\n",
        "for i, rec in enumerate(recommendations_with_embeddings):\n",
        "    collection.add(\n",
        "        documents=[rec['text']],\n",
        "        embeddings=[rec['embedding']],\n",
        "        metadatas=[{\"category\": rec.get('category', 'Unknown')}],\n",
        "        ids=[f\"rec_{i}\"]\n",
        "    )\n",
        "\n",
        "print(\"✅ เก็บคำแนะนำทั้งหมดที่มี embedding จาก BGE M3 ลง Chroma DB v5 ใน Google Drive เรียบร้อย\")\n"
      ],
      "metadata": {
        "id": "rtdA855KC3RR"
      },
      "execution_count": null,
      "outputs": []
    }
  ]
}