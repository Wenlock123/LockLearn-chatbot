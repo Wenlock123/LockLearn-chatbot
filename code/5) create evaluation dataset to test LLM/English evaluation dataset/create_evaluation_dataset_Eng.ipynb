{
  "nbformat": 4,
  "nbformat_minor": 0,
  "metadata": {
    "colab": {
      "provenance": []
    },
    "kernelspec": {
      "name": "python3",
      "display_name": "Python 3"
    },
    "language_info": {
      "name": "python"
    }
  },
  "cells": [
    {
      "cell_type": "markdown",
      "source": [
        "เชื่อม google drive"
      ],
      "metadata": {
        "id": "KnKqcE3QFOE6"
      }
    },
    {
      "cell_type": "code",
      "source": [
        "from google.colab import drive\n",
        "drive.mount('/content/drive')\n"
      ],
      "metadata": {
        "id": "xpOGmpUMFMZx"
      },
      "execution_count": null,
      "outputs": []
    },
    {
      "cell_type": "markdown",
      "source": [
        "โหลดสิ่งที่จำเป็น"
      ],
      "metadata": {
        "id": "d8Zicg_EFiFU"
      }
    },
    {
      "cell_type": "code",
      "source": [
        "!pip install -U langchain-community\n",
        "# ติดตั้ง PyTorch เวอร์ชันล่าสุด\n",
        "!pip install torch==2.0.1\n",
        "# 🚀 ลบ PyTorch และ Transformers เก่าทั้งหมด\n",
        "!pip uninstall -y torch torchvision torchaudio transformers\n",
        "\n",
        "# 🚀 ติดตั้ง PyTorch ที่รองรับ CUDA ของ Colab (CUDA 11.8)\n",
        "!pip install torch torchvision torchaudio --index-url https://download.pytorch.org/whl/cu118\n",
        "\n",
        "# 🚀 ติดตั้ง Transformers เวอร์ชันที่รองรับ\n",
        "!pip install transformers --upgrade\n"
      ],
      "metadata": {
        "id": "RohXzJ6OFkJc"
      },
      "execution_count": null,
      "outputs": []
    },
    {
      "cell_type": "markdown",
      "source": [
        "สร้าง Evaluation dataset ภาษาอังกฤษ"
      ],
      "metadata": {
        "id": "pR1ScqPPFRgY"
      }
    },
    {
      "cell_type": "code",
      "execution_count": null,
      "metadata": {
        "id": "8qbA4LSkE5DT"
      },
      "outputs": [],
      "source": [
        "import json\n",
        "import time\n",
        "import requests\n",
        "\n",
        "# 🔑 API Key สำหรับ Together\n",
        "api_key = \"xxxx\"  # 👈 ใส่ Together API Key ของคุณตรงนี้\n",
        "\n",
        "# 🚀 โหลดไฟล์คำแนะนำพร้อมหมวดหมู่\n",
        "embedding_file = '/content/drive/MyDrive/LockLearn/recommendations_with_categories.json'\n",
        "output_file = '/content/drive/MyDrive/LockLearn/evaluation_datasetv2.json'\n",
        "\n",
        "with open(embedding_file, 'r', encoding='utf-8') as f:\n",
        "    recommendations_with_categories = json.load(f)\n",
        "\n",
        "# 🚀 ฟังก์ชันเรียก API เพื่อสร้างคำถาม\n",
        "def request_with_retry(prompt, retries=3, delay=10):  # เรียกทีละคำขอ\n",
        "    headers = {\n",
        "        \"Content-Type\": \"application/json\",\n",
        "        \"Authorization\": f\"Bearer {api_key}\"\n",
        "    }\n",
        "\n",
        "    json_data = {\n",
        "        \"model\": \"meta-llama/llama-4-scout-17b-16e-instruct\",\n",
        "        \"messages\": [{\"role\": \"user\", \"content\": prompt}]\n",
        "    }\n",
        "\n",
        "    for attempt in range(retries):\n",
        "        try:\n",
        "            response = requests.post(\"https://api.together.xyz/v1/chat/completions\", headers=headers, json=json_data, timeout=30)\n",
        "            if response.status_code == 200:\n",
        "                return response.json().get(\"choices\", [])[0][\"message\"][\"content\"]\n",
        "            elif response.status_code == 429:  # ถ้าถูก rate-limited\n",
        "                print(\"❌ Rate limit reached. Sleeping for 60 seconds...\")\n",
        "                time.sleep(60)  # หน่วง 60 วินาทีถ้าโดน rate limit\n",
        "            else:\n",
        "                print(f\"❌ Error (Status {response.status_code}): {response.text}\")\n",
        "                time.sleep(delay)\n",
        "        except requests.exceptions.RequestException as e:\n",
        "            print(f\"❌ Connection Error: {e}\")\n",
        "            time.sleep(delay)\n",
        "    return None\n",
        "\n",
        "# 🚀 กรองคำแนะนำตามหมวดหมู่\n",
        "category_dict = {}\n",
        "for rec in recommendations_with_categories:\n",
        "    category = rec.get('category', 'Unknown')\n",
        "    category_dict.setdefault(category, []).append(rec)\n",
        "\n",
        "# 🚀 เลือกคำแนะนำจากแต่ละหมวดหมู่ (สูงสุด 100)\n",
        "filtered_recommendations = [rec for recs in category_dict.values() for rec in (recs if len(recs) <= 100 else random.sample(recs, 100))]\n",
        "\n",
        "# 🚀 สร้างคำถามจากคำแนะนำที่เลือกมา\n",
        "evaluation_data = []\n",
        "print(f\"✅ รวมคำแนะนำที่เลือกทั้งหมด: {len(filtered_recommendations)}\")\n",
        "\n",
        "for i, rec in enumerate(filtered_recommendations):\n",
        "    # ปรับ prompt ให้ LLM สร้างคำถามแบบกระชับเพียงคำถามเดียวต่อคำแนะนำ\n",
        "    prompt = f\"Generate a short, human-like question based on the following recommendation: {rec['text']}\"\n",
        "\n",
        "    print(f\"🚀 กำลังสร้างคำถามที่ {i + 1}\")\n",
        "    question = request_with_retry(prompt, delay=10)  # เรียกทีละคำขอ\n",
        "\n",
        "    if question:\n",
        "        entry = {\"question\": question.strip(), \"answer\": rec['text'], \"category\": rec.get('category', 'Unknown')}\n",
        "        evaluation_data.append(entry)\n",
        "\n",
        "    # หน่วง 1 วินาทีหลังจากแต่ละคำขอ\n",
        "    time.sleep(1)\n",
        "\n",
        "# 🚀 บันทึกผลลัพธ์แบบ JSON Pretty\n",
        "with open(output_file, 'w', encoding='utf-8') as f:\n",
        "    json.dump(evaluation_data, f, ensure_ascii=False, indent=4)\n",
        "\n",
        "print(f\"✅ เสร็จสิ้นการสร้างคำถามทั้งหมด: {len(evaluation_data)}\")\n",
        "\n",
        "# ✅ ตรวจสอบว่าจำนวนคำถามครบ 1,370 คำถามหรือไม่\n",
        "if len(evaluation_data) == 1370:\n",
        "    print(\"✅ คำถามครบ 1,370 คำถามแล้ว!\")\n",
        "else:\n",
        "    print(f\"❌ พบปัญหา: จำนวนคำถามที่ได้มี {len(evaluation_data)} คำถามจาก 1,370 คำถามที่คาดไว้\")\n"
      ]
    },
    {
      "cell_type": "code",
      "source": [
        "import chromadb\n",
        "from langchain.embeddings import HuggingFaceEmbeddings\n",
        "from langchain.vectorstores import Chroma\n",
        "from langchain.chains import RetrievalQA\n",
        "from langchain.llms import Together\n",
        "import requests\n",
        "import time\n",
        "import json\n"
      ],
      "metadata": {
        "id": "1BancJVuFrDW"
      },
      "execution_count": null,
      "outputs": []
    },
    {
      "cell_type": "markdown",
      "source": [
        "ทำการ embed คำถาม"
      ],
      "metadata": {
        "id": "We79NpInF295"
      }
    },
    {
      "cell_type": "code",
      "source": [
        "from transformers import AutoTokenizer, AutoModel\n",
        "import torch\n",
        "import json\n",
        "import numpy as np\n",
        "\n",
        "# 🚀 โหลดโมเดลและ Tokenizer (Hugging Face)\n",
        "model_name = \"intfloat/multilingual-e5-large-instruct\"  # ใช้โมเดลเดียวกับที่เก็บใน Vector Database\n",
        "tokenizer = AutoTokenizer.from_pretrained(model_name)\n",
        "model = AutoModel.from_pretrained(model_name, torch_dtype=torch.float16)  # ใช้ Half-Precision เพื่อประหยัดหน่วยความจำ\n",
        "device = torch.device(\"cuda\" if torch.cuda.is_available() else \"cpu\")\n",
        "model.to(device)\n",
        "model.eval()  # ตั้งเป็นโหมดประเมินผลเพื่อประหยัดหน่วยความจำ\n",
        "\n",
        "# 🚀 ฟังก์ชันสร้าง Embedding ของคำถาม\n",
        "def embed_text_batch(texts):\n",
        "    inputs = tokenizer(\n",
        "        texts,\n",
        "        return_tensors='pt',\n",
        "        padding=True,\n",
        "        truncation=True,\n",
        "        max_length=512\n",
        "    ).to(device)\n",
        "\n",
        "    with torch.no_grad():\n",
        "        outputs = model(**inputs)\n",
        "\n",
        "    embeddings = outputs.last_hidden_state.mean(dim=1).cpu().numpy()\n",
        "    return embeddings\n",
        "\n",
        "# 🚀 โหลด Evaluation Dataset\n",
        "evaluation_file = '/content/drive/MyDrive/LockLearn/evaluation_datasetv2.json'\n",
        "with open(evaluation_file, 'r', encoding='utf-8') as f:\n",
        "    evaluation_data = json.load(f)\n",
        "\n",
        "print(f\"✅ โหลด Evaluation Dataset จำนวนคำถาม-คำตอบ: {len(evaluation_data)}\")\n",
        "\n",
        "# 🚀 สร้าง Embeddings สำหรับคำถามทั้งหมด (Batch)\n",
        "batch_size = 10  # แบ่งเป็น batch ละ 10 คำถาม\n",
        "all_embeddings = []\n",
        "\n",
        "for i in range(0, len(evaluation_data), batch_size):\n",
        "    batch_questions = [item['question'] for item in evaluation_data[i:i + batch_size]]\n",
        "\n",
        "    batch_embeddings = embed_text_batch(batch_questions)\n",
        "    all_embeddings.extend(batch_embeddings.tolist())\n",
        "\n",
        "    print(f\"✅ batch ที่ {i // batch_size + 1} embed แล้ว\")\n",
        "\n",
        "    # 🚀 เคลียร์ Cache ของ GPU เพื่อประหยัดหน่วยความจำ\n",
        "    if device == torch.device(\"cuda\"):\n",
        "        torch.cuda.empty_cache()\n",
        "\n",
        "# 🚀 เพิ่ม Embeddings กลับเข้า Evaluation Dataset\n",
        "for i, item in enumerate(evaluation_data):\n",
        "    item['embedding'] = all_embeddings[i]\n",
        "\n",
        "print(\"✅ สร้าง Embeddings สำหรับคำถามใน Evaluation Dataset สำเร็จ\")\n",
        "\n",
        "# 🚀 กำหนดเส้นทางที่ต้องการบันทึกไฟล์ (Google Drive)\n",
        "output_file = '/content/drive/MyDrive/LockLearn/evaluation_dataset_with_embeddings_v2.json'\n",
        "\n",
        "# 🚀 บันทึก Evaluation Dataset พร้อม Embeddings ลงไฟล์ JSON\n",
        "with open(output_file, 'w', encoding='utf-8') as f:\n",
        "    json.dump(evaluation_data, f, ensure_ascii=False, indent=4)\n",
        "\n",
        "print(f\"✅ บันทึก Evaluation Dataset พร้อม Embeddings ที่: {output_file}\")\n"
      ],
      "metadata": {
        "id": "edZ8tlPEF2NB"
      },
      "execution_count": null,
      "outputs": []
    },
    {
      "cell_type": "markdown",
      "source": [
        "เชื่อมต่อกับ vector database"
      ],
      "metadata": {
        "id": "yXoNZlmKF-kj"
      }
    },
    {
      "cell_type": "code",
      "source": [
        "# 🚀 2. เชื่อมต่อกับ Chroma Database ที่มีอยู่แล้ว\n",
        "db_path = '/content/drive/MyDrive/LockLearn/chromadb_database'  # ระบุ path ของฐานข้อมูล\n",
        "client = chromadb.PersistentClient(path=db_path)\n",
        "\n",
        "# โหลด Collection ที่มีอยู่แล้ว\n",
        "collection = client.get_collection(name=\"recommendations\")\n",
        "print(\"✅ เชื่อมต่อกับ Chroma DB สำเร็จ\")\n"
      ],
      "metadata": {
        "id": "p3KHbmV7GA8x"
      },
      "execution_count": null,
      "outputs": []
    },
    {
      "cell_type": "markdown",
      "source": [
        "ใช้ RAG ดึงเอาคำตอบ จากคำถามที่ทำการ embed เเล้วเเสดงตัวอย่าง เพื่อเช็คดูว่าสามารถเชื่อมกัับ vector database ได้มั้ย"
      ],
      "metadata": {
        "id": "QUdEwrhMGBkJ"
      }
    },
    {
      "cell_type": "code",
      "source": [
        "import json\n",
        "import chromadb\n",
        "\n",
        "# 🚀 โหลด Evaluation Dataset พร้อม Embeddings\n",
        "evaluation_file = '/content/drive/MyDrive/LockLearn/evaluation_dataset_with_embeddings_v2.json'\n",
        "with open(evaluation_file, 'r', encoding='utf-8') as f:\n",
        "    evaluation_data = json.load(f)\n",
        "\n",
        "print(f\"✅ โหลด Evaluation Dataset พร้อม Embeddings จำนวนคำถาม-คำตอบ: {len(evaluation_data)}\")\n",
        "\n",
        "# 🚀 เชื่อมต่อกับ Chroma DB\n",
        "db_path = '/content/drive/MyDrive/LockLearn/chromadb_database'\n",
        "client = chromadb.PersistentClient(path=db_path)\n",
        "collection = client.get_collection(name=\"recommendations\")\n",
        "\n",
        "# 🚀 ฟังก์ชัน RAG ดึงคำแนะนำที่ใกล้เคียง\n",
        "def retrieve_recommendations(question_embedding, top_k=3):\n",
        "    results = collection.query(\n",
        "        query_embeddings=[question_embedding],\n",
        "        n_results=top_k\n",
        "    )\n",
        "    if results['documents']:\n",
        "        return results['documents'][0]\n",
        "    return []\n",
        "\n",
        "print(\"✅ พร้อมสำหรับการค้นหาคำแนะนำด้วย RAG\")\n",
        "\n",
        "# 🚀 ทดลองดึงคำแนะนำที่ใกล้เคียงสำหรับคำถามแรก\n",
        "test_question = evaluation_data[0]['question']\n",
        "test_embedding = evaluation_data[0]['embedding']\n",
        "\n",
        "recommendations = retrieve_recommendations(test_embedding)\n",
        "print(f\"\\n🔎 คำถาม: {test_question}\\n✅ คำแนะนำที่ใกล้เคียง:\\n\")\n",
        "\n",
        "for idx, rec in enumerate(recommendations, 1):\n",
        "    print(f\"{idx}. {rec}\")\n"
      ],
      "metadata": {
        "id": "4frvDsrSGK2L"
      },
      "execution_count": null,
      "outputs": []
    },
    {
      "cell_type": "markdown",
      "source": [
        "ใช้ RAG ดึงคำตอบสำหรับคำถามทั้งหมด โดยคำถามนึงจะดึงมา 3 คำตอบ"
      ],
      "metadata": {
        "id": "UIz1F8iWG-ik"
      }
    },
    {
      "cell_type": "code",
      "source": [
        "import json\n",
        "import chromadb\n",
        "\n",
        "# 🚀 โหลด Evaluation Dataset พร้อม Embeddings\n",
        "evaluation_file = '/content/drive/MyDrive/LockLearn/evaluation_dataset_with_embeddings_v2.json'\n",
        "with open(evaluation_file, 'r', encoding='utf-8') as f:\n",
        "    evaluation_data = json.load(f)\n",
        "\n",
        "print(f\"✅ โหลด Evaluation Dataset พร้อม Embeddings จำนวนคำถาม-คำตอบ: {len(evaluation_data)}\")\n",
        "\n",
        "# 🚀 เชื่อมต่อกับ Chroma DB\n",
        "db_path = '/content/drive/MyDrive/LockLearn/chromadb_database'\n",
        "client = chromadb.PersistentClient(path=db_path)\n",
        "collection = client.get_collection(name=\"recommendations\")\n",
        "\n",
        "# 🚀 ฟังก์ชัน RAG (Retrieve) เพื่อค้นหาคำแนะนำที่ใกล้เคียง\n",
        "def retrieve_recommendations(query_embedding, top_k=3):\n",
        "    results = collection.query(query_embeddings=[query_embedding], n_results=top_k)\n",
        "    return results['documents'][0] if results['documents'] else []\n",
        "\n",
        "# 🚀 ใช้ RAG ค้นหาคำแนะนำสำหรับทุกคำถามใน Dataset\n",
        "rag_results = []\n",
        "\n",
        "print(\"🔄 กำลังดึงคำแนะนำที่ใกล้เคียงด้วย RAG...\")\n",
        "\n",
        "for idx, item in enumerate(evaluation_data, 1):\n",
        "    query_embedding = item['embedding']\n",
        "    recommendations = retrieve_recommendations(query_embedding, top_k=3)\n",
        "\n",
        "    rag_results.append({\n",
        "        \"question\": item['question'],\n",
        "        \"answer\": item['answer'],\n",
        "        \"category\": item['category'],\n",
        "        \"recommendations\": recommendations\n",
        "    })\n",
        "\n",
        "    if idx % 100 == 0 or idx == len(evaluation_data):\n",
        "        print(f\"✅ ประมวลผลแล้ว {idx}/{len(evaluation_data)} คำถาม\")\n",
        "\n",
        "# 🚀 บันทึกผลลัพธ์ RAG\n",
        "rag_results_file = '/content/drive/MyDrive/LockLearn/evaluation_rag_results_v2.json'\n",
        "with open(rag_results_file, 'w', encoding='utf-8') as f:\n",
        "    json.dump(rag_results, f, ensure_ascii=False, indent=4)\n",
        "\n",
        "print(f'✅ บันทึกผลลัพธ์ RAG ที่: {rag_results_file}')\n"
      ],
      "metadata": {
        "id": "rNo0XPWOG-Bx"
      },
      "execution_count": null,
      "outputs": []
    },
    {
      "cell_type": "markdown",
      "source": [
        "ทำการใช้ LLM ในการ Gen คำตอบจากที่ RAG ดึงมา"
      ],
      "metadata": {
        "id": "VSxPzxR7HK8K"
      }
    },
    {
      "cell_type": "code",
      "source": [
        "import requests\n",
        "import time\n",
        "import json\n",
        "import os\n",
        "\n",
        "# 🔑 API Key สำหรับ Together\n",
        "api_key = \"xxxxx\"  # 👈 ใส่ Together API Key ของคุณตรงนี้\n",
        "\n",
        "# 🚀 โหลดไฟล์คำถามพร้อม RAG Recommendations\n",
        "input_file = '/content/drive/MyDrive/LockLearn/evaluation_rag_results_v2.json'\n",
        "output_file = '/content/drive/MyDrive/LockLearn/optimized_answers_Llama4_scout_v2.json'\n",
        "\n",
        "# 📂 โหลดข้อมูลจากไฟล์\n",
        "with open(input_file, 'r', encoding='utf-8') as f:\n",
        "    data = json.load(f)\n",
        "\n",
        "# 🚀 โหลดผลลัพธ์ล่าสุด (ถ้ามี)\n",
        "if os.path.exists(output_file):\n",
        "    with open(output_file, 'r', encoding='utf-8') as f:\n",
        "        processed_answers = json.load(f)\n",
        "        processed_ids = set([item['question'] for item in processed_answers])\n",
        "else:\n",
        "    processed_answers = []\n",
        "    processed_ids = set()\n",
        "\n",
        "# 🔁 ฟังก์ชันเรียก API\n",
        "def request_with_retry(json_data, retries=3, delay=10):\n",
        "    headers = {\n",
        "        \"Content-Type\": \"application/json\",\n",
        "        \"Authorization\": f\"Bearer {api_key}\"\n",
        "    }\n",
        "\n",
        "    for attempt in range(retries):\n",
        "        try:\n",
        "            response = requests.post(\"https://api.together.xyz/v1/chat/completions\", headers=headers, json=json_data, timeout=30)\n",
        "            if response.status_code == 200:\n",
        "                answer = response.json()[\"choices\"][0][\"message\"][\"content\"].strip()\n",
        "                if len(answer) > 20:  # ตรวจสอบความยาวคำตอบ\n",
        "                    return answer\n",
        "            print(f\"❌ Error (Status {response.status_code}): {response.text}\")\n",
        "            time.sleep(delay)\n",
        "        except requests.exceptions.RequestException as e:\n",
        "            print(f\"❌ Connection Error: {e}\")\n",
        "            time.sleep(delay)\n",
        "    return \"\"\n",
        "\n",
        "# 🚀 ประมวลผลคำถามที่ยังไม่ได้ตอบ\n",
        "for item in data:\n",
        "    if item['question'] in processed_ids:\n",
        "        continue\n",
        "\n",
        "    prompt = f\"Question: {item['question']}\\nRecommendations: {item['recommendations']}\\nAnswer concisely with encouragement.\"\n",
        "    json_data = {\"model\": \"meta-llama/llama-4-scout-17b-16e-instruct\",\"messages\": [{\"role\": \"user\", \"content\": prompt}]}\n",
        "    answer = request_with_retry(json_data)\n",
        "\n",
        "    if answer:\n",
        "        processed_answers.append({\"question\": item['question'], \"answer\": answer, \"category\": item['category']})\n",
        "        processed_ids.add(item['question'])\n",
        "\n",
        "        # 💾 บันทึกผลลัพธ์ทันที\n",
        "        with open(output_file, 'w', encoding='utf-8') as f:\n",
        "            json.dump(processed_answers, f, ensure_ascii=False, indent=4)\n",
        "\n",
        "        print(f\"✅ บันทึกคำตอบล่าสุด ({len(processed_answers)})\")\n",
        "\n",
        "print(\"✅ เสร็จสิ้นการประมวลผล\")\n"
      ],
      "metadata": {
        "id": "KoG00q4tHKS7"
      },
      "execution_count": null,
      "outputs": []
    }
  ]
}